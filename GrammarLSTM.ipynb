{
 "cells": [
  {
   "cell_type": "code",
   "execution_count": 1,
   "metadata": {},
   "outputs": [],
   "source": [
    "from GeneratePolygons import generate_batch\n",
    "import numpy as np\n",
    "import matplotlib.pyplot as plt\n",
    "import torchtext\n",
    "import torch\n",
    "from torchtext.data.utils import get_tokenizer\n",
    "%matplotlib inline"
   ]
  },
  {
   "cell_type": "code",
   "execution_count": 2,
   "metadata": {
    "scrolled": true
   },
   "outputs": [],
   "source": [
    "train_imgs=[]\n",
    "train_labels=[] #the generating grammar, encoded as a space-separated string\n",
    "test_imgs=[]\n",
    "test_labels=[] \n",
    "sides_range=[3,4,5,6,7,8,9,10] #images will be polygons with number of sides being one of the numbers in this list\n",
    "\n",
    "n_train=1500 #number of training images in each class\n",
    "n_test=500\n",
    "for class_id,n_sides in enumerate(sides_range):\n",
    "    imgs=generate_batch(n_train+n_test,n_sides,edge_width=2)\n",
    "    train_imgs.append(imgs[:n_train])\n",
    "    test_imgs.append(imgs[n_train:])\n",
    "    #the generative rules; T is used as terminal symbol; each ek corresponds to the relation between sides in k-sided polygon\n",
    "    train_labels+=[(f'S -> S + e{n_sides} , S -> S + T')]*n_train\n",
    "    test_labels+=[(f'S -> S + e{n_sides} , S -> S + T')]*n_test\n",
    "train_imgs=np.vstack(train_imgs)\n",
    "test_imgs=np.vstack(test_imgs)\n",
    "train_labels=np.array(train_labels)\n",
    "test_labels=np.array(test_labels)"
   ]
  },
  {
   "cell_type": "code",
   "execution_count": 3,
   "metadata": {},
   "outputs": [],
   "source": [
    "TEXT = torchtext.data.Field(tokenize=get_tokenizer(\"basic_english\"),\n",
    "                            init_token='<sos>',\n",
    "                            eos_token='<eos>',\n",
    "                            lower=True)\n",
    "\n"
   ]
  },
  {
   "cell_type": "code",
   "execution_count": 4,
   "metadata": {},
   "outputs": [],
   "source": [
    "TEXT.build_vocab([x.split(' ') for x in train_labels])"
   ]
  },
  {
   "cell_type": "code",
   "execution_count": 5,
   "metadata": {},
   "outputs": [],
   "source": [
    "MAX_SEQ_LEN=16 #pad sequences so they are all this length\n",
    "\n",
    "def str_to_int(s,max_len=MAX_SEQ_LEN):\n",
    "    #s a string of tokens separated by spaces\n",
    "    #return representation as sequence of integers\n",
    "    #if length is < max_len, then add padding token at the end until it is this length\n",
    "    char_as_int=[TEXT.vocab.stoi[x] for x in s.split(' ')]\n",
    "\n",
    "    char_as_int=char_as_int[:MAX_SEQ_LEN]+[len(TEXT.vocab)]*max(MAX_SEQ_LEN-len(char_as_int),0) #pad\n",
    "    return char_as_int\n",
    "    \n",
    "def str_to_onehots(s,max_len=MAX_SEQ_LEN):\n",
    "    #s a string of tokens separated by spaces\n",
    "    #return representation as sequence of one-hot vectors \n",
    "    #if length is < max_len, then add padding token at the end until it is this length\n",
    "    \n",
    "    char_as_int=str_to_int(s,max_len=max_len)\n",
    "\n",
    "\n",
    "    ret=torch.zeros((max_len,len(TEXT.vocab)+1))\n",
    "    for i,x in enumerate(char_as_int):\n",
    "        ret[i,x]=1\n",
    "    return ret"
   ]
  },
  {
   "cell_type": "code",
   "execution_count": 6,
   "metadata": {},
   "outputs": [],
   "source": [
    "#convert each label to a sequence of one-hots\n",
    "train_seqs=[str_to_int(x) for x in train_labels]\n",
    "test_seqs=[str_to_int(x) for x in test_labels]\n"
   ]
  },
  {
   "cell_type": "code",
   "execution_count": 7,
   "metadata": {},
   "outputs": [],
   "source": [
    "class GrammarGenerator(torch.nn.Module):\n",
    "    def __init__(self, n_classes,input_size=(128,128)):\n",
    "        super(GrammarGenerator, self).__init__()\n",
    "        # Convolution 1\n",
    "        self.conv1 = torch.nn.Conv2d(in_channels=1, out_channels=10, kernel_size=8, stride=1, padding=3)\n",
    "\n",
    "        # Max pool 1\n",
    "        self.maxpool1 = torch.nn.MaxPool2d(kernel_size=4)\n",
    "        \n",
    "        self.conv2 = torch.nn.Conv2d(in_channels=10, out_channels=10, kernel_size=3, stride=1, padding=3)\n",
    "\n",
    "        # Max pool 1\n",
    "        self.maxpool2 = torch.nn.MaxPool2d(kernel_size=2)\n",
    "\n",
    "        #dimensionality of lstm\n",
    "        self.emb_dim=100\n",
    "        self.h_dim=100 \n",
    "        self.fc1=torch.nn.Linear(10*17*17,self.emb_dim)\n",
    "        self.fc2=torch.nn.Linear(10*17*17,self.h_dim)\n",
    "        self.fc3=torch.nn.Linear(10*17*17,self.h_dim)\n",
    "        \n",
    "        self.lstm = torch.nn.LSTM(self.emb_dim, self.h_dim)  \n",
    "        self.tokenW=torch.nn.Linear(self.emb_dim+2*self.h_dim,len(TEXT.vocab)+1) #weights for decoding token from hidden state and embedding \n",
    "\n",
    "    def forward(self, x):\n",
    "        #pass through conv layers\n",
    "        outp=self.maxpool1(self.conv1(x))\n",
    "        outp=torch.nn.ReLU()(outp)\n",
    "        outp=self.maxpool2(self.conv2(outp))\n",
    "        outp=torch.nn.ReLU()(outp)\n",
    "        outp=torch.reshape(outp,(len(x),-1)) #concatenate so each image is represented by a 1d vector\n",
    "        \n",
    "        \n",
    "        embs=[torch.nn.ReLU()(self.fc1(outp))[None,:,:]] #initialize lstm embedding  (extra axis for sequence dimsnion)\n",
    "        \n",
    "        h1s=[torch.nn.ReLU()(self.fc2(outp))[None,:,:]] #initialize lstm hidden state\n",
    "        h2s=[torch.nn.ReLU()(self.fc3(outp))[None,:,:]]\n",
    "        \n",
    "        #run through lstm and record embeddings and hidden state\n",
    "        for i in range(MAX_SEQ_LEN-1):\n",
    "            new_emb,new_h=self.lstm(embs[-1],(h1s[-1],h2s[-1]))\n",
    "            embs.append(new_emb)\n",
    "            h1s.append(new_h[0])\n",
    "            h2s.append(new_h[1])\n",
    "        \n",
    "        embs=torch.cat(embs,axis=0)\n",
    "        h1s=torch.cat(h1s,axis=0)\n",
    "        h2s=torch.cat(h2s,axis=0)\n",
    "        \n",
    "        #concatenate all together to decode the corresponding tokens\n",
    "        features=torch.cat((embs,h1s,h2s),axis=2)\n",
    "        \n",
    "        features=self.tokenW(features) #logit for each token \n",
    "        \n",
    "        \n",
    "        return features.transpose(1,0) #reorder so batch dim is first\n"
   ]
  },
  {
   "cell_type": "code",
   "execution_count": 8,
   "metadata": {},
   "outputs": [],
   "source": [
    "model=GrammarGenerator(len(sides_range))"
   ]
  },
  {
   "cell_type": "code",
   "execution_count": 9,
   "metadata": {},
   "outputs": [],
   "source": [
    "batch_size=32\n",
    "optimizer=torch.optim.SGD(model.parameters(),lr=.005)\n",
    "criterion=torch.nn.CrossEntropyLoss()#weight=weights).to('cuda')\n",
    "losses=[]\n"
   ]
  },
  {
   "cell_type": "code",
   "execution_count": 10,
   "metadata": {},
   "outputs": [
    {
     "name": "stdout",
     "output_type": "stream",
     "text": [
      "3.249253\n",
      "2.3038585\n",
      "2.1848612\n",
      "2.079558\n",
      "2.023984\n",
      "1.9523652\n",
      "1.959924\n",
      "1.831084\n",
      "1.7263917\n",
      "1.5836182\n",
      "1.6992086\n",
      "1.5266103\n",
      "1.3409231\n",
      "1.2347212\n",
      "1.1446217\n",
      "1.0328714\n",
      "1.5717022\n",
      "0.9716799\n",
      "0.9443598\n",
      "0.9560807\n",
      "0.8776706\n",
      "0.85715276\n",
      "0.76697135\n",
      "0.80608255\n",
      "1.0289643\n",
      "0.709088\n",
      "0.67659986\n",
      "0.64749444\n",
      "0.6310317\n",
      "0.6065647\n",
      "0.56415546\n",
      "1.2833362\n",
      "0.5215813\n",
      "0.50690335\n",
      "0.491776\n",
      "0.47795\n",
      "0.8827008\n",
      "0.58990765\n",
      "0.5193091\n",
      "0.5013696\n",
      "0.43786508\n",
      "0.4343771\n",
      "0.38760638\n",
      "1.6079676\n",
      "0.39606252\n",
      "0.41223776\n",
      "0.43420467\n",
      "0.33873194\n",
      "0.44936138\n",
      "0.39771363\n",
      "0.36071363\n",
      "0.32997337\n",
      "0.3390105\n",
      "0.43958944\n",
      "0.35427162\n",
      "0.34996092\n",
      "0.31758934\n",
      "0.3209298\n",
      "0.3472642\n",
      "0.33745426\n",
      "0.30072558\n",
      "0.37794086\n",
      "0.2498224\n",
      "0.29360175\n",
      "0.35343063\n",
      "0.3134011\n",
      "0.4666948\n",
      "0.3103471\n",
      "0.28515095\n",
      "0.2570342\n",
      "0.62678045\n",
      "0.3646875\n",
      "0.28966632\n",
      "0.3101001\n",
      "0.2791252\n",
      "0.27844653\n",
      "0.37535924\n",
      "0.31383902\n",
      "0.2637395\n",
      "0.22839576\n",
      "0.8129995\n",
      "0.5801027\n",
      "0.19965677\n",
      "0.289745\n",
      "0.21733919\n",
      "0.23545727\n",
      "0.20858583\n",
      "0.3462574\n",
      "0.20118621\n",
      "0.25720242\n",
      "0.19960031\n",
      "0.19118045\n",
      "0.20614406\n",
      "0.21341085\n",
      "0.18560097\n",
      "0.17950007\n",
      "0.1870349\n",
      "0.19734348\n",
      "0.14662369\n",
      "0.21994328\n",
      "0.19075061\n",
      "0.17995664\n",
      "0.20190206\n",
      "0.1514231\n",
      "0.17819823\n",
      "0.1598191\n",
      "0.14083773\n",
      "0.1448539\n",
      "0.15966657\n",
      "0.17800704\n",
      "0.12949654\n",
      "0.13421488\n",
      "0.15324333\n",
      "0.17929894\n",
      "0.15010726\n",
      "0.22603744\n",
      "0.2517248\n",
      "0.3367954\n",
      "0.13976847\n",
      "0.16139522\n",
      "0.1626363\n",
      "0.14216615\n",
      "0.12264445\n",
      "0.1358249\n",
      "0.11682355\n",
      "0.15128164\n",
      "0.18755119\n",
      "0.11686531\n",
      "0.16182114\n",
      "0.12279476\n",
      "0.20465456\n",
      "0.14612234\n",
      "0.16230966\n",
      "0.1183898\n",
      "0.10109246\n",
      "0.13414383\n",
      "0.14417426\n",
      "0.11959761\n",
      "0.16551718\n",
      "0.14378615\n",
      "0.11029404\n",
      "0.09966989\n",
      "0.115550146\n",
      "0.1374442\n",
      "0.1174675\n",
      "0.15370384\n",
      "0.12344598\n",
      "0.12985621\n",
      "0.13775879\n",
      "0.09750023\n",
      "0.0876291\n",
      "0.10536739\n",
      "0.10309558\n",
      "0.08372962\n",
      "0.094926775\n",
      "0.22804251\n",
      "0.09718364\n",
      "0.14365175\n",
      "0.10316682\n",
      "0.107423015\n"
     ]
    }
   ],
   "source": [
    "#train\n",
    "for ii in range(4000):\n",
    "    batch_ids = np.random.choice(train_imgs.shape[0], batch_size, replace=False)\n",
    "    optimizer.zero_grad()\n",
    "\n",
    "    feats=model(torch.from_numpy(train_imgs[batch_ids])[:,None,:,:].float())\n",
    "    feats=feats.reshape(-1,feats.shape[2])\n",
    "    #stack so that first axis is (first token in seq 1, ..., nth tokenin seq 1, first token in seq 2, ... nth in seq 2, ...)\n",
    "\n",
    "    #list the token ids of the target sequences in the same order (first all seq1, then seq2, etc.)\n",
    "    targets=torch.Tensor(sum([train_seqs[x] for x in batch_ids],[])).long()\n",
    "    loss=criterion(feats, targets)\n",
    "    loss.backward()\n",
    "    optimizer.step()\n",
    "    losses.append(loss.detach().numpy())\n",
    "    if(ii%25==0):\n",
    "        print(losses[-1])"
   ]
  },
  {
   "cell_type": "code",
   "execution_count": 16,
   "metadata": {},
   "outputs": [
    {
     "data": {
      "text/plain": [
       "(0, 0.5)"
      ]
     },
     "execution_count": 16,
     "metadata": {},
     "output_type": "execute_result"
    },
    {
     "data": {
      "image/png": "[encoded data removed]",
      "text/plain": [
       "<Figure size 432x288 with 1 Axes>"
      ]
     },
     "metadata": {
      "needs_background": "light"
     },
     "output_type": "display_data"
    }
   ],
   "source": [
    "\n",
    "plt.plot(losses)\n",
    "plt.ylim(0,.5)\n"
   ]
  },
  {
   "cell_type": "code",
   "execution_count": null,
   "metadata": {},
   "outputs": [],
   "source": []
  },
  {
   "cell_type": "code",
   "execution_count": 17,
   "metadata": {},
   "outputs": [],
   "source": [
    "#predictions on test images"
   ]
  },
  {
   "cell_type": "code",
   "execution_count": 18,
   "metadata": {},
   "outputs": [],
   "source": [
    "predicted_grammars=[]\n",
    "\n",
    "extended_vocab=TEXT.vocab.itos+['<pad>']\n",
    "for x in test_imgs:\n",
    "    outp=model(torch.from_numpy(x)[None,None,:,:].float()).squeeze()\n",
    "    pred_seq=torch.argmax(outp,axis=1)\n",
    "    pred_seq=[extended_vocab[c]+' ' for c in pred_seq]\n",
    "    predicted_grammars.append(''.join(pred_seq))"
   ]
  },
  {
   "cell_type": "code",
   "execution_count": 21,
   "metadata": {},
   "outputs": [
    {
     "data": {
      "text/plain": [
       "['S -> S + e10 , S -> S + T <pad> <pad> <pad> <pad> <pad> ',\n",
       " 'S -> S + e5 , S -> S + T <pad> <pad> <pad> <pad> <pad> ',\n",
       " 'S -> S + e5 , S -> S + T <pad> <pad> <pad> <pad> <pad> ',\n",
       " 'S -> S + e10 , S -> S + T <pad> <pad> <pad> <pad> <pad> ',\n",
       " 'S -> S + e10 , S -> S + T <pad> <pad> <pad> <pad> <pad> ',\n",
       " 'S -> S + e10 , S S S + T <pad> <pad> <pad> <pad> <pad> ',\n",
       " 'S -> S + e5 , S -> S + T <pad> <pad> <pad> <pad> <pad> ',\n",
       " 'S -> S + e5 , S -> S + T <pad> <pad> <pad> <pad> <pad> ',\n",
       " 'S -> S + e4 , S -> S + T <pad> <pad> <pad> <pad> <pad> ',\n",
       " 'S -> S + e5 , S -> S + T <pad> <pad> <pad> <pad> <pad> ']"
      ]
     },
     "execution_count": 21,
     "metadata": {},
     "output_type": "execute_result"
    }
   ],
   "source": [
    "ids=np.random.choice(len(test_labels),10,replace=False) #pick some images randomly to show\n",
    "[predicted_grammars[x] for x in ids] #predicted grammar for each image"
   ]
  },
  {
   "cell_type": "code",
   "execution_count": null,
   "metadata": {},
   "outputs": [],
   "source": []
  },
  {
   "cell_type": "code",
   "execution_count": 22,
   "metadata": {},
   "outputs": [
    {
     "data": {
      "text/plain": [
       "['S -> S + e9 , S -> S + T',\n",
       " 'S -> S + e6 , S -> S + T',\n",
       " 'S -> S + e5 , S -> S + T',\n",
       " 'S -> S + e6 , S -> S + T',\n",
       " 'S -> S + e10 , S -> S + T',\n",
       " 'S -> S + e10 , S -> S + T',\n",
       " 'S -> S + e6 , S -> S + T',\n",
       " 'S -> S + e5 , S -> S + T',\n",
       " 'S -> S + e4 , S -> S + T',\n",
       " 'S -> S + e4 , S -> S + T']"
      ]
     },
     "execution_count": 22,
     "metadata": {},
     "output_type": "execute_result"
    }
   ],
   "source": [
    "[test_labels[x] for x in ids]#true grammars for the images"
   ]
  },
  {
   "cell_type": "code",
   "execution_count": null,
   "metadata": {},
   "outputs": [],
   "source": []
  },
  {
   "cell_type": "code",
   "execution_count": null,
   "metadata": {},
   "outputs": [],
   "source": []
  }
 ],
 "metadata": {
  "kernelspec": {
   "display_name": "Python 3",
   "language": "python",
   "name": "python3"
  },
  "language_info": {
   "codemirror_mode": {
    "name": "ipython",
    "version": 3
   },
   "file_extension": ".py",
   "mimetype": "text/x-python",
   "name": "python",
   "nbconvert_exporter": "python",
   "pygments_lexer": "ipython3",
   "version": "3.7.3"
  }
 },
 "nbformat": 4,
 "nbformat_minor": 2
}
