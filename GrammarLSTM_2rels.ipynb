{
 "cells": [
  {
   "cell_type": "code",
   "execution_count": 1,
   "metadata": {},
   "outputs": [],
   "source": [
    "from GeneratePolygons import *\n",
    "import numpy as np\n",
    "import matplotlib.pyplot as plt\n",
    "import torchtext\n",
    "import torch\n",
    "from torchtext.data.utils import get_tokenizer\n",
    "from itertools import combinations\n",
    "%matplotlib inline"
   ]
  },
  {
   "cell_type": "code",
   "execution_count": 2,
   "metadata": {
    "scrolled": true
   },
   "outputs": [],
   "source": [
    "train_imgs=[]\n",
    "train_labels=[] #the generating grammar, encoded as a space-separated string\n",
    "sides_range=[3,4,5,6] #images will be polygons with number of sides being one of the numbers in this list\n",
    "\n",
    "n_train=1500 #number of training images in each class\n",
    "n_test=500\n",
    "\n",
    "\n",
    "img_size=64\n",
    "edge_length_range=(img_size/5,img_size/4)\n",
    "center_mean=(img_size/2,img_size/2)\n",
    "center_std=3\n",
    "edge_width=2\n",
    "params=dict({'img_size':img_size,'edge_length_range':edge_length_range,\n",
    "            'center_mean':center_mean,'center_std':center_std,'edge_width':edge_width})\n",
    "\n",
    "\n",
    "#generate images from the single-rule grammars\n",
    "for class_id,n_sides in enumerate(sides_range):\n",
    "    imgs=generate_batch(n_train,n_sides,**params)\n",
    "    train_imgs.append(imgs)\n",
    "    #the generative rules; T is used as terminal symbol; each ek corresponds to the relation between sides in k-sided polygon\n",
    "    train_labels+=[(f'S -> S + e{n_sides} , S -> S + T')]*n_train\n",
    "    \n",
    "\n",
    "#now generate the combination grammars for all but one of the combinations\n",
    "test_ids=(1,3)\n",
    "test_sides=(sides_range[test_ids[0]],sides_range[test_ids[1]])\n",
    "for i,j in combinations(sides_range,2):\n",
    "    if (i,j)==test_sides or (i,j)==test_sides[::-1]:\n",
    "        continue\n",
    "    imgs=generate_batch_2rels(n_train,i,j,**params)\n",
    "    train_imgs.append(imgs)\n",
    "    train_labels+=[(f'S -> S + e{i} , S -> S + e{j} , S -> S + T')]*n_train\n",
    "train_imgs=np.vstack(train_imgs)\n",
    "train_labels=np.array(train_labels)\n",
    "\n",
    "#discrete classes for multiclass problem\n",
    "train_classes=np.vstack([[1*(f'e{s}' in x) for x in train_labels] for s in sides_range]).T\n",
    "\n",
    "#use the held out combination for testing\n",
    "test_imgs=generate_batch_2rels(n_test,test_sides[0],test_sides[1],**params)\n",
    "test_labels=np.array([(f'S -> S + e{test_sides[0]} , S -> S + e{test_sides[1]} , S -> S + T')]*n_test)\n",
    "\n",
    "#discrete classes for multiclass problem\n",
    "test_classes=np.vstack([[1*(f'e{s}' in x) for x in test_labels] for s in sides_range]).T\n",
    "\n"
   ]
  },
  {
   "cell_type": "code",
   "execution_count": null,
   "metadata": {},
   "outputs": [],
   "source": []
  },
  {
   "cell_type": "code",
   "execution_count": 3,
   "metadata": {},
   "outputs": [
    {
     "data": {
      "text/plain": [
       "<matplotlib.image.AxesImage at 0x7fac7847f0b8>"
      ]
     },
     "execution_count": 3,
     "metadata": {},
     "output_type": "execute_result"
    },
    {
     "data": {
      "image/png": "[encoded data removed]",
      "text/plain": [
       "<Figure size 432x288 with 1 Axes>"
      ]
     },
     "metadata": {
      "needs_background": "light"
     },
     "output_type": "display_data"
    }
   ],
   "source": [
    "plt.imshow(test_imgs[np.random.choice(len(test_imgs))])"
   ]
  },
  {
   "cell_type": "code",
   "execution_count": 115,
   "metadata": {},
   "outputs": [
    {
     "data": {
      "text/plain": [
       "('S -> S + e3 , S -> S + e4 , S -> S + T',\n",
       " 'S -> S + e4 , S -> S + e5 , S -> S + T')"
      ]
     },
     "execution_count": 115,
     "metadata": {},
     "output_type": "execute_result"
    }
   ],
   "source": [
    "i0=np.random.choice(np.arange(4*n_train,5*n_train))\n",
    "i1=np.random.choice(np.arange(7*n_train,8*n_train))\n",
    "train_labels[i0],train_labels[i1]"
   ]
  },
  {
   "cell_type": "code",
   "execution_count": 118,
   "metadata": {},
   "outputs": [
    {
     "data": {
      "image/png": "[encoded data removed]",
      "text/plain": [
       "<Figure size 432x288 with 2 Axes>"
      ]
     },
     "metadata": {},
     "output_type": "display_data"
    }
   ],
   "source": [
    "plt.subplot(1,2,1)\n",
    "plt.title('e4e3e4')\n",
    "plt.imshow(train_imgs[i0])\n",
    "plt.xticks([])\n",
    "plt.yticks([])\n",
    "plt.subplot(1,2,2)\n",
    "plt.title('e5e4')\n",
    "plt.imshow(train_imgs[i1])\n",
    "plt.xticks([])\n",
    "plt.yticks([])\n",
    "plt.savefig('/Users/Simon/Desktop/PolygonExample.pdf')"
   ]
  },
  {
   "cell_type": "code",
   "execution_count": 5,
   "metadata": {},
   "outputs": [],
   "source": [
    "TEXT = torchtext.data.Field(tokenize=get_tokenizer(\"basic_english\"),\n",
    "                            init_token='<sos>',\n",
    "                            eos_token='<eos>',\n",
    "                            lower=True)\n",
    "\n"
   ]
  },
  {
   "cell_type": "code",
   "execution_count": 6,
   "metadata": {},
   "outputs": [],
   "source": [
    "TEXT.build_vocab([x.split(' ') for x in train_labels])"
   ]
  },
  {
   "cell_type": "code",
   "execution_count": 7,
   "metadata": {},
   "outputs": [],
   "source": [
    "MAX_SEQ_LEN=24 #pad sequences so they are all this length\n",
    "\n",
    "def str_to_int(s,max_len=MAX_SEQ_LEN):\n",
    "    #s a string of tokens separated by spaces\n",
    "    #return representation as sequence of integers\n",
    "    #if length is < max_len, then add padding token at the end until it is this length\n",
    "    char_as_int=[TEXT.vocab.stoi[x] for x in s.split(' ')]\n",
    "\n",
    "    char_as_int=char_as_int[:MAX_SEQ_LEN]+[len(TEXT.vocab)]*max(MAX_SEQ_LEN-len(char_as_int),0) #pad\n",
    "    return char_as_int\n",
    "    \n",
    "def str_to_onehots(s,max_len=MAX_SEQ_LEN):\n",
    "    #s a string of tokens separated by spaces\n",
    "    #return representation as sequence of one-hot vectors \n",
    "    #if length is < max_len, then add padding token at the end until it is this length\n",
    "    \n",
    "    char_as_int=str_to_int(s,max_len=max_len)\n",
    "\n",
    "\n",
    "    ret=torch.zeros((max_len,len(TEXT.vocab)+1))\n",
    "    for i,x in enumerate(char_as_int):\n",
    "        ret[i,x]=1\n",
    "    return ret"
   ]
  },
  {
   "cell_type": "code",
   "execution_count": 8,
   "metadata": {},
   "outputs": [],
   "source": [
    "#convert each label to a sequence of one-hots\n",
    "train_seqs=[str_to_int(x) for x in train_labels]\n",
    "test_seqs=[str_to_int(x) for x in test_labels]\n"
   ]
  },
  {
   "cell_type": "code",
   "execution_count": 9,
   "metadata": {},
   "outputs": [],
   "source": [
    "class GrammarGenerator(torch.nn.Module):\n",
    "    def __init__(self):\n",
    "        super(GrammarGenerator, self).__init__()\n",
    "        # Convolution 1\n",
    "        self.conv1 = torch.nn.Conv2d(in_channels=1, out_channels=10, kernel_size=4, stride=1, padding=3)\n",
    "\n",
    "        # Max pool 1\n",
    "        self.maxpool1 = torch.nn.MaxPool2d(kernel_size=2)\n",
    "        \n",
    "        self.conv2 = torch.nn.Conv2d(in_channels=10, out_channels=10, kernel_size=3, stride=1, padding=3)\n",
    "\n",
    "        # Max pool 1\n",
    "        self.maxpool2 = torch.nn.MaxPool2d(kernel_size=2)\n",
    "\n",
    "        #dimensionality of lstm\n",
    "        self.emb_dim=100\n",
    "        self.h_dim=100 \n",
    "        self.fc1=torch.nn.Linear(3240,self.emb_dim) \n",
    "        self.fc2=torch.nn.Linear(3240,self.h_dim)\n",
    "        self.fc3=torch.nn.Linear(3240,self.h_dim)\n",
    "        \n",
    "        self.lstm = torch.nn.LSTM(self.emb_dim, self.h_dim)  \n",
    "        self.tokenW=torch.nn.Linear(self.emb_dim+2*self.h_dim,len(TEXT.vocab)+1) #weights for decoding token from hidden state and embedding \n",
    "\n",
    "    def forward(self, x):\n",
    "        #pass through conv layers\n",
    "        outp=self.maxpool1(self.conv1(x))\n",
    "        outp=torch.nn.ReLU()(outp)\n",
    "        outp=self.maxpool2(self.conv2(outp))\n",
    "        outp=torch.nn.ReLU()(outp)\n",
    "        outp=torch.reshape(outp,(len(x),-1)) #concatenate so each image is represented by a 1d vector\n",
    "        \n",
    "        \n",
    "        embs=[torch.nn.ReLU()(self.fc1(outp))[None,:,:]] #initialize lstm embedding  (extra axis for sequence dimsnion)\n",
    "        \n",
    "        h1s=[torch.nn.ReLU()(self.fc2(outp))[None,:,:]] #initialize lstm hidden state\n",
    "        h2s=[torch.nn.ReLU()(self.fc3(outp))[None,:,:]]\n",
    "        \n",
    "        #run through lstm and record embeddings and hidden state\n",
    "        for i in range(MAX_SEQ_LEN-1):\n",
    "            new_emb,new_h=self.lstm(embs[-1],(h1s[-1],h2s[-1]))\n",
    "            embs.append(new_emb)\n",
    "            h1s.append(new_h[0])\n",
    "            h2s.append(new_h[1])\n",
    "        \n",
    "        embs=torch.cat(embs,axis=0)\n",
    "        h1s=torch.cat(h1s,axis=0)\n",
    "        h2s=torch.cat(h2s,axis=0)\n",
    "        \n",
    "        #concatenate all together to decode the corresponding tokens\n",
    "        features=torch.cat((embs,h1s,h2s),axis=2)\n",
    "        \n",
    "        features=self.tokenW(features) #logit for each token \n",
    "        \n",
    "        \n",
    "        return features.transpose(1,0) #reorder so batch dim is first\n",
    "\n",
    "    \n",
    "class ConvClassifier(torch.nn.Module):\n",
    "    #same convolutional architecture but without the lstm\n",
    "    #convolutional features fed directly to fully connected layer+sigmoid \n",
    "    def __init__(self,n_classes=len(sides_range)):\n",
    "        super(ConvClassifier, self).__init__()\n",
    "        # Convolution 1\n",
    "        self.conv1 = torch.nn.Conv2d(in_channels=1, out_channels=10, kernel_size=4, stride=1, padding=3)\n",
    "\n",
    "        # Max pool 1\n",
    "        self.maxpool1 = torch.nn.MaxPool2d(kernel_size=2)\n",
    "        \n",
    "        self.conv2 = torch.nn.Conv2d(in_channels=10, out_channels=10, kernel_size=3, stride=1, padding=3)\n",
    "\n",
    "        # Max pool 1\n",
    "        self.maxpool2 = torch.nn.MaxPool2d(kernel_size=2)\n",
    "\n",
    "        self.fc=torch.nn.Linear(3240,n_classes)\n",
    "\n",
    "    def forward(self,x):\n",
    "        #pass through conv layers\n",
    "        outp=self.maxpool1(self.conv1(x))\n",
    "        outp=torch.nn.ReLU()(outp)\n",
    "        outp=self.maxpool2(self.conv2(outp))\n",
    "        outp=torch.nn.ReLU()(outp)\n",
    "        outp=torch.reshape(outp,(len(x),-1)) #concatenate so each image is represented by a 1d vector\n",
    "        \n",
    "        return torch.sigmoid(self.fc(outp))"
   ]
  },
  {
   "cell_type": "code",
   "execution_count": 10,
   "metadata": {},
   "outputs": [],
   "source": [
    "model=GrammarGenerator()"
   ]
  },
  {
   "cell_type": "code",
   "execution_count": 11,
   "metadata": {},
   "outputs": [],
   "source": [
    "batch_size=32\n",
    "optimizer=torch.optim.SGD(model.parameters(),lr=.01)\n",
    "criterion=torch.nn.CrossEntropyLoss()#weight=weights).to('cuda')\n",
    "losses=[]\n"
   ]
  },
  {
   "cell_type": "code",
   "execution_count": 12,
   "metadata": {},
   "outputs": [
    {
     "name": "stdout",
     "output_type": "stream",
     "text": [
      "2.8210306\n",
      "2.234571\n",
      "2.0909991\n",
      "2.0157099\n",
      "1.7808646\n",
      "1.6165172\n",
      "1.5124445\n",
      "1.3717328\n",
      "1.2173682\n",
      "1.2396739\n",
      "1.1339902\n",
      "1.0456333\n",
      "1.040847\n",
      "0.96139437\n",
      "1.0068147\n",
      "1.0181276\n",
      "0.9284456\n",
      "0.81148666\n",
      "0.7258871\n",
      "1.0664303\n",
      "0.8857751\n",
      "0.9517179\n",
      "0.8621218\n",
      "0.8331325\n",
      "1.7450194\n",
      "0.88885355\n",
      "0.7323589\n",
      "0.8158199\n",
      "0.7119787\n",
      "0.77415156\n",
      "0.73284453\n",
      "0.8543551\n",
      "0.7531853\n",
      "1.0474883\n",
      "0.8520007\n",
      "0.66971046\n",
      "0.6326648\n",
      "0.82798195\n",
      "0.67891616\n",
      "1.1073121\n",
      "0.84964484\n",
      "0.7967079\n",
      "0.79904747\n",
      "0.76036\n",
      "0.75373554\n",
      "0.6883529\n",
      "0.8007517\n",
      "0.7624304\n",
      "0.68406516\n",
      "0.7047464\n",
      "0.68217444\n",
      "0.6743717\n",
      "0.6907129\n",
      "0.6600104\n",
      "0.72896546\n",
      "0.6986408\n",
      "0.71538216\n",
      "0.5896239\n",
      "0.59999496\n",
      "0.71786433\n",
      "0.70795757\n",
      "0.63124317\n",
      "0.7316758\n",
      "0.62329656\n",
      "0.6191825\n",
      "0.6318774\n",
      "0.6769588\n",
      "0.61179835\n",
      "0.61282283\n",
      "0.75794667\n",
      "0.76483434\n",
      "1.1267533\n",
      "0.91026926\n",
      "0.84140253\n",
      "0.82621366\n",
      "0.69432956\n",
      "0.6120325\n",
      "0.8373845\n",
      "0.7283342\n",
      "0.67348844\n",
      "0.6887796\n",
      "0.65594906\n",
      "0.67424875\n",
      "0.7712622\n",
      "0.72593045\n",
      "0.7723293\n",
      "0.5529372\n",
      "0.56983346\n",
      "0.59979004\n",
      "0.5215164\n",
      "0.6318398\n",
      "0.6377217\n",
      "0.5806709\n",
      "0.47743413\n",
      "0.6023055\n",
      "0.5508754\n",
      "0.6416389\n",
      "0.5541303\n",
      "0.7412067\n",
      "0.47953632\n",
      "0.56742793\n",
      "0.54207134\n",
      "0.5110266\n",
      "0.5344173\n",
      "0.50961393\n",
      "0.6298181\n",
      "0.56981015\n",
      "0.5381004\n",
      "0.46586004\n",
      "0.48066697\n",
      "0.5762886\n",
      "0.5563757\n",
      "0.4545896\n",
      "0.5185853\n",
      "0.5143917\n",
      "0.4876387\n",
      "0.4593133\n",
      "0.49983788\n",
      "0.5036843\n",
      "0.5002951\n",
      "0.5023401\n",
      "1.1163678\n",
      "0.8136526\n",
      "0.7496491\n",
      "0.69735426\n",
      "0.79811233\n",
      "0.7207981\n",
      "0.6426907\n",
      "0.5865479\n",
      "0.6055499\n",
      "0.6334972\n",
      "0.5362769\n",
      "0.6773467\n",
      "0.536249\n",
      "0.5381356\n",
      "0.46164462\n",
      "0.44684243\n",
      "0.62387\n",
      "0.4861636\n",
      "0.51500183\n",
      "0.516367\n",
      "0.6177575\n",
      "0.57732576\n",
      "0.5810506\n",
      "0.46630505\n",
      "0.6100275\n",
      "0.5274808\n",
      "0.3988817\n",
      "0.41830066\n",
      "0.47697034\n",
      "0.5221779\n",
      "0.46833572\n",
      "0.43397796\n",
      "0.39731053\n",
      "0.4745901\n",
      "0.47499308\n",
      "1.1202924\n",
      "0.39365616\n",
      "0.35696468\n",
      "0.5410059\n",
      "0.53643775\n",
      "0.36573613\n",
      "0.479086\n",
      "0.41316807\n",
      "0.43255794\n",
      "0.404456\n",
      "0.47116175\n",
      "0.35068107\n",
      "0.40589687\n",
      "0.4300432\n",
      "0.37448728\n",
      "0.32635242\n",
      "0.28856745\n",
      "0.41320476\n",
      "0.39148593\n",
      "0.4174638\n",
      "0.43070665\n",
      "0.5972159\n",
      "0.36899623\n",
      "0.4208375\n",
      "0.32250425\n",
      "0.28920695\n",
      "0.3323349\n",
      "0.32220832\n",
      "0.48183545\n",
      "0.32413375\n",
      "0.29527035\n",
      "0.36965618\n",
      "0.3537697\n",
      "0.42741075\n",
      "0.37590936\n",
      "0.33522114\n",
      "0.22543658\n",
      "0.28436932\n",
      "0.3379103\n",
      "0.2841332\n",
      "0.4638745\n",
      "0.33434984\n",
      "0.2195916\n",
      "0.3107543\n",
      "0.25991255\n",
      "0.27839074\n",
      "0.40092263\n",
      "0.31075504\n",
      "0.31554684\n",
      "0.43496513\n",
      "0.24427782\n",
      "0.25154993\n",
      "0.22466998\n",
      "0.28961584\n",
      "0.24419872\n",
      "0.346233\n",
      "0.31624928\n",
      "0.32778248\n",
      "0.24536265\n",
      "0.2475845\n",
      "0.26715252\n",
      "0.33547303\n",
      "0.26698056\n",
      "0.24638014\n",
      "0.2156711\n",
      "0.23888773\n",
      "0.21540076\n",
      "0.27688769\n",
      "0.27908778\n",
      "0.22150205\n",
      "0.21724774\n",
      "0.25552902\n",
      "0.25818962\n",
      "0.2179718\n",
      "0.2126161\n",
      "0.2024946\n",
      "0.1999851\n",
      "0.15801461\n",
      "0.29466107\n",
      "0.23117383\n",
      "0.20866235\n",
      "0.20691735\n",
      "0.1909548\n",
      "0.28175098\n",
      "0.23720379\n",
      "0.23497082\n",
      "0.16817486\n",
      "0.20457487\n",
      "0.22775494\n",
      "0.19343019\n",
      "0.18363957\n",
      "0.20190352\n",
      "0.28789577\n",
      "0.21238972\n",
      "0.22369836\n",
      "0.17551261\n",
      "0.24160685\n",
      "0.15188707\n",
      "0.229387\n",
      "0.1866017\n",
      "0.12696426\n",
      "0.17803413\n",
      "0.15944397\n",
      "0.229317\n",
      "0.17482899\n",
      "0.12758306\n",
      "0.17208885\n",
      "0.38732544\n",
      "0.2044056\n",
      "0.16449504\n",
      "0.15044612\n",
      "0.12287421\n",
      "0.1630367\n",
      "0.18453912\n",
      "0.16016687\n",
      "0.1810149\n",
      "0.13855879\n",
      "0.17607109\n",
      "0.14401294\n",
      "0.17255266\n",
      "0.15520684\n",
      "0.14638944\n",
      "0.20837224\n",
      "0.108480155\n",
      "0.16076308\n",
      "0.19646013\n",
      "0.15655124\n",
      "0.13976647\n",
      "0.13784511\n",
      "0.16686578\n",
      "0.17119725\n",
      "0.15947156\n",
      "0.14953311\n",
      "0.11819273\n",
      "0.14322613\n",
      "0.13379224\n",
      "0.16543375\n",
      "0.14471675\n",
      "0.13033901\n",
      "0.17454468\n",
      "0.112963624\n",
      "0.11616388\n",
      "0.13063097\n",
      "0.16486214\n",
      "0.19381899\n",
      "0.13857697\n",
      "0.14765687\n",
      "0.10118873\n",
      "0.11410427\n",
      "0.13307436\n",
      "0.11079349\n",
      "0.12654041\n",
      "0.10862977\n",
      "0.11104402\n",
      "0.10815657\n",
      "0.14941262\n",
      "0.13686346\n",
      "0.106855065\n",
      "0.15218069\n",
      "0.15603842\n",
      "0.10741169\n",
      "0.10609733\n",
      "0.10218588\n",
      "0.10130376\n",
      "0.14621842\n",
      "0.09617769\n",
      "0.12659244\n",
      "0.12621473\n",
      "0.09684545\n",
      "0.092814215\n",
      "0.10104209\n",
      "0.10385945\n",
      "0.13526629\n",
      "0.08631312\n",
      "0.10192714\n",
      "0.1323028\n",
      "0.087390505\n",
      "0.10518987\n",
      "0.075909875\n",
      "0.08473345\n",
      "0.15608715\n",
      "0.14363304\n",
      "0.11226871\n",
      "0.08625651\n",
      "0.08832087\n",
      "0.12151388\n",
      "0.08928099\n",
      "0.1799975\n",
      "0.13228914\n",
      "0.10573272\n",
      "0.0903248\n",
      "0.10123991\n",
      "0.08887825\n",
      "0.09149391\n",
      "0.12895577\n",
      "0.093530454\n",
      "0.11326829\n",
      "0.09295245\n",
      "0.10115775\n",
      "0.13536997\n",
      "0.07638782\n",
      "0.08154583\n",
      "0.080128126\n",
      "0.093747914\n",
      "0.11622483\n",
      "0.0740264\n",
      "0.11804438\n",
      "0.12090235\n",
      "0.09190923\n",
      "0.093324095\n",
      "0.097512044\n",
      "0.08312343\n",
      "0.08718889\n",
      "0.08287313\n",
      "0.097375244\n",
      "0.1469437\n",
      "0.09828598\n",
      "0.1515569\n",
      "0.10142082\n",
      "0.08705335\n",
      "0.09074146\n",
      "0.08350914\n",
      "0.116804816\n",
      "0.07758633\n",
      "0.086810745\n",
      "0.08217559\n",
      "0.07753923\n",
      "0.08193628\n",
      "0.07171866\n",
      "0.06314108\n",
      "0.09651994\n",
      "0.0818582\n",
      "0.08538731\n",
      "0.06786469\n",
      "0.08827603\n",
      "0.068902805\n",
      "0.08884731\n",
      "0.08653533\n",
      "0.075538\n",
      "0.08324977\n",
      "0.088147424\n",
      "0.062571734\n",
      "0.108269215\n",
      "0.077633895\n",
      "0.08955077\n",
      "0.10456529\n",
      "0.06705033\n",
      "0.051861357\n",
      "0.06584807\n",
      "0.05907763\n",
      "0.07171244\n",
      "0.06162003\n",
      "0.07900161\n",
      "0.06710545\n",
      "0.067850865\n",
      "0.060452428\n",
      "0.070652254\n",
      "0.078172855\n",
      "0.070048444\n",
      "0.06586429\n",
      "0.10583972\n",
      "0.06833244\n",
      "0.07365518\n",
      "0.07137369\n",
      "0.054354627\n",
      "0.06865417\n",
      "0.0879331\n",
      "0.085026264\n",
      "0.06753651\n",
      "0.0753023\n",
      "0.06725588\n",
      "0.0702005\n",
      "0.0651466\n",
      "0.06474795\n",
      "0.061515674\n",
      "0.055356864\n",
      "0.05620413\n",
      "0.07185572\n",
      "0.123386554\n",
      "0.068246394\n",
      "0.070195824\n",
      "0.06336871\n",
      "0.04684894\n",
      "0.06314225\n",
      "0.0535841\n",
      "0.07386502\n",
      "0.06420979\n",
      "0.05412836\n",
      "0.04833616\n",
      "0.06179324\n",
      "0.06498957\n",
      "0.074490935\n",
      "0.080286294\n",
      "0.09311327\n",
      "0.070018895\n",
      "0.06770823\n",
      "0.057957213\n",
      "0.05004047\n",
      "0.078934625\n",
      "0.06703457\n",
      "0.07100079\n",
      "0.05545472\n",
      "0.06934405\n",
      "0.052477006\n",
      "0.057519186\n",
      "0.05296861\n",
      "0.054714426\n",
      "0.04925467\n",
      "0.04630844\n",
      "0.05049524\n",
      "0.056265797\n",
      "0.05289435\n",
      "0.048776362\n",
      "0.06149934\n",
      "0.06494605\n",
      "0.059274405\n",
      "0.07607271\n",
      "0.057046432\n",
      "0.06864319\n",
      "0.07097647\n",
      "0.050813783\n",
      "0.08509138\n",
      "0.055522624\n",
      "0.050647825\n"
     ]
    }
   ],
   "source": [
    "#train\n",
    "for ii in range(12000):\n",
    "    batch_ids = np.random.choice(train_imgs.shape[0], batch_size, replace=False)\n",
    "    optimizer.zero_grad()\n",
    "\n",
    "    feats=model(torch.from_numpy(train_imgs[batch_ids])[:,None,:,:].float())\n",
    "    feats=feats.reshape(-1,feats.shape[2])\n",
    "    #stack so that first axis is (first token in seq 1, ..., nth tokenin seq 1, first token in seq 2, ... nth in seq 2, ...)\n",
    "\n",
    "    #list the token ids of the target sequences in the same order (first all seq1, then seq2, etc.)\n",
    "    targets=torch.Tensor(sum([train_seqs[x] for x in batch_ids],[])).long()\n",
    "    loss=criterion(feats, targets)\n",
    "    loss.backward()\n",
    "    optimizer.step()\n",
    "    losses.append(loss.detach().numpy())\n",
    "    if(ii%25==0):\n",
    "        print(losses[-1])"
   ]
  },
  {
   "cell_type": "code",
   "execution_count": 13,
   "metadata": {},
   "outputs": [
    {
     "data": {
      "text/plain": [
       "(0, 0.2)"
      ]
     },
     "execution_count": 13,
     "metadata": {},
     "output_type": "execute_result"
    },
    {
     "data": {
      "image/png": "[encoded data removed]",
      "text/plain": [
       "<Figure size 432x288 with 1 Axes>"
      ]
     },
     "metadata": {
      "needs_background": "light"
     },
     "output_type": "display_data"
    }
   ],
   "source": [
    "\n",
    "plt.plot(losses)\n",
    "plt.ylim(0,.2)"
   ]
  },
  {
   "cell_type": "code",
   "execution_count": null,
   "metadata": {},
   "outputs": [],
   "source": []
  },
  {
   "cell_type": "code",
   "execution_count": 14,
   "metadata": {},
   "outputs": [],
   "source": [
    "#predictions on test images"
   ]
  },
  {
   "cell_type": "code",
   "execution_count": 15,
   "metadata": {},
   "outputs": [],
   "source": [
    "predicted_grammars=[]\n",
    "\n",
    "extended_vocab=TEXT.vocab.itos+['<pad>']\n",
    "for x in test_imgs:\n",
    "    outp=model(torch.from_numpy(x)[None,None,:,:].float()).squeeze()\n",
    "    pred_seq=torch.argmax(outp,axis=1)\n",
    "    pred_seq=[extended_vocab[c]+' ' for c in pred_seq]\n",
    "    predicted_grammars.append(''.join(pred_seq))"
   ]
  },
  {
   "cell_type": "code",
   "execution_count": 128,
   "metadata": {},
   "outputs": [
    {
     "data": {
      "text/plain": [
       "['S -> S + e4 , S -> S + e5 , S -> S + T <pad> <pad> <pad> <pad> <pad> <pad> <pad> ',\n",
       " 'S -> S + e4 , S -> S + e6 , S -> S + T <pad> <pad> <pad> <pad> <pad> <pad> <pad> ',\n",
       " 'S -> S + e5 , S -> S + e6 , S -> S + T <pad> <pad> <pad> <pad> <pad> <pad> <pad> ',\n",
       " 'S -> S + e5 , S -> S + e5 , S -> S + T <pad> <pad> <pad> <pad> <pad> <pad> <pad> ',\n",
       " 'S -> S + e4 , S -> S + T <pad> <pad> <pad> <pad> <pad> <pad> <pad> <pad> <pad> <pad> <pad> <pad> <pad> ',\n",
       " 'S -> S + e5 , S -> S + , , S -> S + T <pad> <pad> <pad> <pad> <pad> <pad> <pad> ',\n",
       " 'S -> S + e4 , S -> S + e6 , S -> S + T <pad> <pad> <pad> <pad> <pad> <pad> <pad> ',\n",
       " 'S -> S + e4 , S -> S + e5 , S -> S + T <pad> <pad> <pad> <pad> <pad> <pad> <pad> ',\n",
       " 'S -> S + e4 , S -> S + e6 , S -> S + T <pad> <pad> <pad> <pad> <pad> <pad> <pad> ',\n",
       " 'S -> S + e3 , S -> S + e6 , S -> S + T <pad> <pad> <pad> <pad> <pad> <pad> <pad> ']"
      ]
     },
     "execution_count": 128,
     "metadata": {},
     "output_type": "execute_result"
    }
   ],
   "source": [
    "#predicted grammars on randomly chosen test images\n",
    "ids=np.random.choice(len(test_labels),10,replace=False) #pick some images randomly to show\n",
    "[predicted_grammars[x] for x in ids] #predicted grammar for each image"
   ]
  },
  {
   "cell_type": "code",
   "execution_count": 130,
   "metadata": {},
   "outputs": [
    {
     "data": {
      "image/png": "[encoded data removed]",
      "text/plain": [
       "<Figure size 720x720 with 2 Axes>"
      ]
     },
     "metadata": {},
     "output_type": "display_data"
    }
   ],
   "source": [
    "\n",
    "plt.figure(figsize=(10,10))\n",
    "for i in range(2):\n",
    "    plt.subplot(1,2,i+1)\n",
    "    plt.imshow(test_imgs[ids[i]])\n",
    "    tokens=[x for x in predicted_grammars[ids[i]].split(' ') if x]\n",
    "    #remove all the padding characters from the end\n",
    "    #if there are any remaining padding characters not in a contiguous block at the end\n",
    "    #then the grammar is invalid\n",
    "    last_nonpad=len(tokens)-1 \n",
    "    while(tokens[last_nonpad]=='<pad>'):\n",
    "        last_nonpad-=1\n",
    "    \n",
    "    tokens=tokens[:last_nonpad+1]\n",
    "    plt.title(''.join(tokens))\n",
    "    plt.xticks([])\n",
    "    plt.yticks([])\n",
    "plt.savefig('/Users/Simon/Desktop/LSTM_outs.pdf')"
   ]
  },
  {
   "cell_type": "code",
   "execution_count": 17,
   "metadata": {},
   "outputs": [
    {
     "data": {
      "text/plain": [
       "0.908"
      ]
     },
     "execution_count": 17,
     "metadata": {},
     "output_type": "execute_result"
    }
   ],
   "source": [
    "#\"partial credit\": how many predicted grammars have at least one of the true testing symbols\n",
    "\n",
    "#(for randomly guessing a pair of symbols, this probability will be 5/6)\n",
    "np.mean([f'{test_sides[0]}' in predicted_grammars[i] or f'{test_sides[1]}' in predicted_grammars[i] for i in range(n_test)])"
   ]
  },
  {
   "cell_type": "code",
   "execution_count": null,
   "metadata": {},
   "outputs": [],
   "source": []
  },
  {
   "cell_type": "code",
   "execution_count": 18,
   "metadata": {},
   "outputs": [
    {
     "data": {
      "text/plain": [
       "0.258"
      ]
     },
     "execution_count": 18,
     "metadata": {},
     "output_type": "execute_result"
    }
   ],
   "source": [
    "#\"full credit\": how many predicted grammars have both of the true testing symbols\n",
    "#(for random guess: 1/6)\n",
    "lstm_both_in_pred=np.mean([f'{test_sides[0]}' in predicted_grammars[i] and f'{test_sides[1]}' in predicted_grammars[i] for i in range(n_test)])\n",
    "\n",
    "lstm_both_in_pred"
   ]
  },
  {
   "cell_type": "code",
   "execution_count": 19,
   "metadata": {},
   "outputs": [
    {
     "data": {
      "text/plain": [
       "0.562"
      ]
     },
     "execution_count": 19,
     "metadata": {},
     "output_type": "execute_result"
    }
   ],
   "source": [
    "#\"partial credit\": how many predicted grammars have the first test symbol\n",
    "#(random guess: 1/2)\n",
    "np.mean([f'{test_sides[0]}' in predicted_grammars[i] for i in range(n_test)])"
   ]
  },
  {
   "cell_type": "code",
   "execution_count": 20,
   "metadata": {},
   "outputs": [
    {
     "data": {
      "text/plain": [
       "0.604"
      ]
     },
     "execution_count": 20,
     "metadata": {},
     "output_type": "execute_result"
    }
   ],
   "source": [
    "#\"partial credit\": how many predicted grammars have the second testi symbols\n",
    "#(random guess: 1/2)\n",
    "np.mean([f'{test_sides[1]}' in predicted_grammars[i] for i in range(n_test)])"
   ]
  },
  {
   "cell_type": "code",
   "execution_count": 21,
   "metadata": {},
   "outputs": [],
   "source": [
    "#\"false alarms\": how often the grammars contain symbols they shouldn't\n",
    "non_test_sides=[x for x in sides_range if x not in test_sides]"
   ]
  },
  {
   "cell_type": "code",
   "execution_count": 22,
   "metadata": {},
   "outputs": [
    {
     "data": {
      "text/plain": [
       "0.142"
      ]
     },
     "execution_count": 22,
     "metadata": {},
     "output_type": "execute_result"
    }
   ],
   "source": [
    "#hit rate for first non test symbol\n",
    "#lower is better \n",
    "#(chance=1/2)\n",
    "np.mean([f'{non_test_sides[0]}' in predicted_grammars[i] for i in range(n_test)])"
   ]
  },
  {
   "cell_type": "code",
   "execution_count": 23,
   "metadata": {},
   "outputs": [
    {
     "data": {
      "text/plain": [
       "0.558"
      ]
     },
     "execution_count": 23,
     "metadata": {},
     "output_type": "execute_result"
    }
   ],
   "source": [
    "#for second\n",
    "np.mean([f'{non_test_sides[1]}' in predicted_grammars[i] for i in range(n_test)])"
   ]
  },
  {
   "cell_type": "code",
   "execution_count": 37,
   "metadata": {},
   "outputs": [
    {
     "data": {
      "text/plain": [
       "0.258"
      ]
     },
     "execution_count": 37,
     "metadata": {},
     "output_type": "execute_result"
    }
   ],
   "source": [
    "#proportion with correct grammar (gets both of true symbols, and neither of decoy symbols)\n",
    "np.mean([f'{test_sides[0]}' in predicted_grammars[i] and f'{test_sides[1]}' in predicted_grammars[i]\n",
    "         and f'{non_test_sides[0]}' not in predicted_grammars[i] and f'{non_test_sides[1]}' not in predicted_grammars[i]\n",
    "         for i in range(n_test)])"
   ]
  },
  {
   "cell_type": "code",
   "execution_count": 24,
   "metadata": {},
   "outputs": [],
   "source": [
    "#now train the convolutional baseline w multiclass loss\n",
    "\n",
    "\n",
    "model_baseline=ConvClassifier()\n",
    "optimizer_baseline=torch.optim.SGD(model_baseline.parameters(),lr=.01)\n",
    "criterion_baseline=torch.nn.BCELoss()\n",
    "losses2=[]"
   ]
  },
  {
   "cell_type": "code",
   "execution_count": 25,
   "metadata": {},
   "outputs": [
    {
     "name": "stdout",
     "output_type": "stream",
     "text": [
      "2.489363\n",
      "0.67324173\n",
      "0.5947574\n",
      "0.61243194\n",
      "0.58983517\n",
      "0.5655147\n",
      "0.5599623\n",
      "0.5961701\n",
      "0.5801622\n",
      "0.61044985\n",
      "0.5225509\n",
      "0.53857994\n",
      "0.66310054\n",
      "0.5056512\n",
      "0.59433997\n",
      "0.58430594\n",
      "0.55896187\n",
      "0.45945126\n",
      "0.53689015\n",
      "0.56533426\n",
      "0.45831847\n",
      "0.54577285\n",
      "0.4927764\n",
      "0.46945524\n",
      "0.46249336\n",
      "0.51604956\n",
      "0.47378772\n",
      "0.4601757\n",
      "0.49442655\n",
      "0.41300902\n",
      "0.47995356\n",
      "0.40643483\n",
      "0.41732034\n",
      "0.38607544\n",
      "0.5000163\n",
      "0.5101394\n",
      "0.3837981\n",
      "0.41671747\n",
      "0.4667412\n",
      "0.42033958\n",
      "0.4862508\n",
      "0.3865807\n",
      "0.38858655\n",
      "0.3520615\n",
      "0.4863602\n",
      "0.48546427\n",
      "0.44350845\n",
      "0.44698343\n",
      "0.4203392\n",
      "0.3034929\n",
      "0.4170139\n",
      "0.3825639\n",
      "0.48261157\n",
      "0.4134204\n",
      "0.4253461\n",
      "0.441216\n",
      "0.35793045\n",
      "0.42716104\n",
      "0.3868441\n",
      "0.35158893\n",
      "0.40488178\n",
      "0.4116907\n",
      "0.31797302\n",
      "0.3641966\n",
      "0.41377184\n",
      "0.28733468\n",
      "0.3981366\n",
      "0.3452239\n",
      "0.34899712\n",
      "0.36974302\n",
      "0.37352988\n",
      "0.44189304\n",
      "0.365942\n",
      "0.40575156\n",
      "0.33429947\n",
      "0.3597132\n",
      "0.32594973\n",
      "0.33360043\n",
      "0.38820747\n",
      "0.32956526\n",
      "0.26724294\n",
      "0.36130184\n",
      "0.33875126\n",
      "0.38283998\n",
      "0.41371828\n",
      "0.39959678\n",
      "0.4229856\n",
      "0.32889715\n",
      "0.40625283\n",
      "0.33289677\n",
      "0.3655404\n",
      "0.4101976\n",
      "0.3132359\n",
      "0.2695749\n",
      "0.29965237\n",
      "0.5238349\n",
      "0.27288207\n",
      "0.32299846\n",
      "0.36539537\n",
      "0.34743524\n",
      "0.3766362\n",
      "0.22234812\n",
      "0.31302842\n",
      "0.2954433\n",
      "0.34933224\n",
      "0.3228986\n",
      "0.39095354\n",
      "0.33065575\n",
      "0.34715888\n",
      "0.31360787\n",
      "0.3400061\n",
      "0.41217488\n",
      "0.27210867\n",
      "0.41204897\n",
      "0.3213444\n",
      "0.34257987\n",
      "0.28931057\n",
      "0.24852467\n",
      "0.30405828\n",
      "0.3751534\n",
      "0.30784023\n",
      "0.44967344\n",
      "0.31822044\n",
      "0.33818027\n",
      "0.3652354\n",
      "0.36296132\n",
      "0.27472618\n",
      "0.21830215\n",
      "0.3628895\n",
      "0.2919024\n",
      "0.34829837\n",
      "0.3654585\n",
      "0.30196723\n",
      "0.35272998\n",
      "0.333022\n",
      "0.28189918\n",
      "0.41624507\n",
      "0.45586514\n",
      "0.288947\n",
      "0.5402613\n",
      "0.33208552\n",
      "0.25937238\n",
      "0.33632866\n",
      "0.36849374\n",
      "0.26842487\n",
      "0.2750981\n",
      "0.2608074\n",
      "0.3449394\n",
      "0.36938795\n",
      "0.25980923\n",
      "0.3007278\n",
      "0.25738314\n",
      "0.27882287\n",
      "0.3175485\n",
      "0.35761613\n",
      "0.26451308\n",
      "0.31962195\n",
      "0.40259618\n",
      "0.3021249\n",
      "0.32512796\n",
      "0.30417112\n",
      "0.27107632\n",
      "0.34289706\n",
      "0.29483676\n",
      "0.24952818\n",
      "0.3924597\n",
      "0.29179156\n",
      "0.36719003\n",
      "0.33612734\n",
      "0.3042087\n",
      "0.30105472\n",
      "0.26571998\n",
      "0.2903393\n",
      "0.31182918\n",
      "0.23574926\n",
      "0.30338374\n",
      "0.2627227\n",
      "0.33432376\n",
      "0.37332886\n",
      "0.3491112\n",
      "0.2720554\n",
      "0.39335996\n",
      "0.1969805\n",
      "0.290048\n",
      "0.36191583\n",
      "0.41861087\n",
      "0.31862476\n",
      "0.3506187\n",
      "0.3988864\n",
      "0.36179894\n",
      "0.22739196\n",
      "0.30213866\n",
      "0.23118792\n",
      "0.38748536\n",
      "0.24311484\n",
      "0.25828332\n",
      "0.39564103\n",
      "0.32519695\n",
      "0.26679438\n",
      "0.3037936\n",
      "0.2527225\n",
      "0.24669226\n",
      "0.295863\n",
      "0.24543309\n",
      "0.25903434\n",
      "0.22897676\n",
      "0.22252513\n",
      "0.27686128\n",
      "0.19071162\n",
      "0.28838742\n",
      "0.41502225\n",
      "0.29354805\n",
      "0.19660442\n",
      "0.2997284\n",
      "0.24587171\n",
      "0.32040608\n",
      "0.22786722\n",
      "0.1915553\n",
      "0.36206362\n",
      "0.29907772\n",
      "0.30789414\n",
      "0.30958712\n",
      "0.3210971\n",
      "0.28588957\n",
      "0.19640665\n",
      "0.23381156\n",
      "0.33083048\n",
      "0.18646018\n",
      "0.21279018\n",
      "0.26989678\n",
      "0.31964004\n",
      "0.23985308\n",
      "0.24635878\n",
      "0.22735356\n",
      "0.26719648\n",
      "0.23056582\n",
      "0.3208807\n",
      "0.29177776\n",
      "0.2013902\n",
      "0.30098057\n",
      "0.28209576\n",
      "0.291046\n",
      "0.22200684\n",
      "0.28476417\n",
      "0.21072057\n",
      "0.22393279\n",
      "0.28221926\n",
      "0.3881738\n",
      "0.29653472\n",
      "0.22046639\n",
      "0.18225639\n",
      "0.43836883\n",
      "0.24684097\n",
      "0.30558354\n",
      "0.27806285\n",
      "0.24808894\n",
      "0.29076806\n",
      "0.25955382\n",
      "0.23234257\n",
      "0.27119535\n",
      "0.36274055\n",
      "0.3361764\n",
      "0.26582244\n",
      "0.3209062\n",
      "0.215929\n",
      "0.3064206\n",
      "0.22978103\n",
      "0.34948087\n",
      "0.2893761\n",
      "0.2637967\n",
      "0.28356636\n",
      "0.21212852\n",
      "0.2530989\n",
      "0.2037919\n",
      "0.3155577\n",
      "0.18802547\n",
      "0.26031876\n",
      "0.18824759\n",
      "0.25246337\n",
      "0.25950375\n",
      "0.35076404\n",
      "0.25815263\n",
      "0.21615592\n",
      "0.22731933\n",
      "0.17615512\n",
      "0.26222926\n",
      "0.2708979\n",
      "0.30387354\n",
      "0.23858914\n",
      "0.21172634\n",
      "0.34036937\n",
      "0.23548515\n",
      "0.39934355\n",
      "0.28169107\n",
      "0.19918673\n",
      "0.3006704\n",
      "0.26470613\n",
      "0.20132725\n",
      "0.28275052\n",
      "0.2688115\n",
      "0.18673488\n",
      "0.18922506\n",
      "0.35801056\n",
      "0.26937452\n",
      "0.23315623\n",
      "0.16807662\n",
      "0.23948002\n",
      "0.18961215\n",
      "0.27307543\n",
      "0.28078437\n",
      "0.27431014\n",
      "0.3394959\n",
      "0.2784775\n",
      "0.25119072\n",
      "0.28071612\n",
      "0.27276415\n",
      "0.26033846\n",
      "0.18120141\n",
      "0.29386288\n",
      "0.23873249\n",
      "0.21982722\n",
      "0.22119214\n",
      "0.22820821\n",
      "0.3110192\n",
      "0.25721076\n",
      "0.20250349\n",
      "0.3421897\n",
      "0.27216777\n",
      "0.19055042\n",
      "0.22188766\n",
      "0.25503662\n",
      "0.28440937\n",
      "0.23706667\n",
      "0.19342917\n",
      "0.22493246\n",
      "0.20622128\n",
      "0.35313565\n",
      "0.15182851\n",
      "0.12122528\n",
      "0.27930018\n",
      "0.22863509\n",
      "0.28468698\n",
      "0.2103217\n",
      "0.2717551\n",
      "0.27342537\n",
      "0.24874313\n",
      "0.26549396\n",
      "0.23441513\n",
      "0.2901448\n",
      "0.21966097\n",
      "0.17026307\n",
      "0.24611458\n",
      "0.20646778\n",
      "0.2134236\n",
      "0.2606421\n",
      "0.29841182\n",
      "0.21404113\n",
      "0.2783943\n",
      "0.2591119\n",
      "0.16714029\n",
      "0.24354176\n",
      "0.22059412\n",
      "0.20970626\n",
      "0.1545465\n",
      "0.32436147\n",
      "0.32536995\n",
      "0.23398815\n",
      "0.18207386\n",
      "0.2945701\n",
      "0.19194022\n",
      "0.3059404\n",
      "0.22507313\n",
      "0.29971096\n",
      "0.27239156\n",
      "0.19448881\n",
      "0.16352141\n",
      "0.22323331\n",
      "0.2253797\n",
      "0.19171755\n",
      "0.3002761\n",
      "0.2847061\n",
      "0.21012682\n",
      "0.28869128\n",
      "0.28469077\n",
      "0.33142883\n",
      "0.22694866\n",
      "0.19955678\n",
      "0.19601293\n",
      "0.23146684\n",
      "0.14697126\n",
      "0.3056113\n",
      "0.3807898\n",
      "0.30310565\n",
      "0.15628165\n",
      "0.32384232\n",
      "0.2463113\n",
      "0.27576467\n",
      "0.1932466\n",
      "0.22799082\n",
      "0.1673118\n",
      "0.21690014\n",
      "0.26304367\n",
      "0.1127708\n",
      "0.17793322\n",
      "0.22485417\n",
      "0.2517202\n",
      "0.15542898\n",
      "0.2615811\n",
      "0.19412827\n",
      "0.21136488\n",
      "0.20198737\n",
      "0.21490122\n",
      "0.17742158\n",
      "0.19781078\n",
      "0.25023323\n",
      "0.17175771\n",
      "0.27787852\n",
      "0.22442092\n",
      "0.16622631\n",
      "0.18314089\n",
      "0.24724585\n",
      "0.18247336\n",
      "0.19662797\n",
      "0.2092902\n",
      "0.23646568\n",
      "0.2401487\n",
      "0.31586865\n",
      "0.19855064\n",
      "0.1999028\n",
      "0.17436752\n",
      "0.22340608\n",
      "0.27441108\n",
      "0.16185197\n",
      "0.17661281\n",
      "0.20073338\n",
      "0.17952222\n",
      "0.27277797\n",
      "0.1775173\n",
      "0.20947203\n",
      "0.1722028\n",
      "0.20149682\n",
      "0.35153845\n",
      "0.22549486\n",
      "0.19174132\n",
      "0.22710988\n",
      "0.2589386\n",
      "0.36130956\n",
      "0.28466752\n",
      "0.21465802\n",
      "0.29794544\n",
      "0.36009654\n",
      "0.2037285\n",
      "0.14825498\n",
      "0.27306554\n",
      "0.26115793\n",
      "0.29364637\n",
      "0.21938473\n",
      "0.16771363\n",
      "0.2739347\n",
      "0.23964192\n",
      "0.22918259\n",
      "0.29091057\n",
      "0.2970007\n",
      "0.22854884\n",
      "0.19971849\n",
      "0.14300619\n",
      "0.28178942\n",
      "0.22074738\n",
      "0.18053724\n",
      "0.16620733\n",
      "0.15248927\n",
      "0.19846204\n",
      "0.24150082\n",
      "0.20010358\n",
      "0.2196401\n",
      "0.14840057\n",
      "0.22412582\n",
      "0.32037956\n",
      "0.30022112\n",
      "0.28911445\n"
     ]
    }
   ],
   "source": [
    "#train\n",
    "for ii in range(12000):\n",
    "    batch_ids = np.random.choice(train_imgs.shape[0], batch_size, replace=False)\n",
    "    optimizer_baseline.zero_grad()\n",
    "\n",
    "    preds=model_baseline(torch.from_numpy(train_imgs[batch_ids][:,None,:,:]).float())\n",
    "    targets=torch.from_numpy(train_classes[batch_ids]).float()\n",
    "    loss=criterion_baseline(preds, targets)\n",
    "    loss.backward()\n",
    "    optimizer_baseline.step()\n",
    "    losses2.append(loss.detach().numpy())\n",
    "    if(ii%25==0):\n",
    "        print(losses2[-1])"
   ]
  },
  {
   "cell_type": "code",
   "execution_count": 26,
   "metadata": {},
   "outputs": [
    {
     "data": {
      "text/plain": [
       "(0, 2)"
      ]
     },
     "execution_count": 26,
     "metadata": {},
     "output_type": "execute_result"
    },
    {
     "data": {
      "image/png": "[encoded data removed]",
      "text/plain": [
       "<Figure size 432x288 with 1 Axes>"
      ]
     },
     "metadata": {
      "needs_background": "light"
     },
     "output_type": "display_data"
    }
   ],
   "source": [
    "plt.plot(losses2)\n",
    "plt.ylim(0,2)"
   ]
  },
  {
   "cell_type": "code",
   "execution_count": 27,
   "metadata": {},
   "outputs": [],
   "source": [
    "#multiclass predictions on test images\n",
    "baseline_preds=model_baseline(torch.from_numpy(test_imgs[:,None,:,:]).float()).detach().numpy()\n",
    "\n",
    "\n"
   ]
  },
  {
   "cell_type": "code",
   "execution_count": 28,
   "metadata": {},
   "outputs": [],
   "source": [
    "#we can form a grammar based on the multiclss predictions by first selecting a threshold T\n",
    "#and including the corresponding production rules if the activation of the unit in th prediction\n",
    "#exceeds T\n",
    "\n",
    "#in order to compare with the LSTM, we first choose T to achieve the same proportion of images\n",
    "#in which both of the correct symbols are picked\n",
    "\n",
    "#we then compute the false alarm rates using this T (i.e. how often an incorrect symbol is picked)\n",
    "#and compare to the LSTM\n",
    "\n",
    "\n"
   ]
  },
  {
   "cell_type": "code",
   "execution_count": 29,
   "metadata": {},
   "outputs": [],
   "source": [
    "\n",
    "#compute the threshold value that matches the true hit rate for lstm\n",
    "\n",
    "\n",
    "thresh_range=np.linspace(0,1,200) \n",
    "true_hits=[np.mean(np.logical_and(baseline_preds[:,test_ids[0]]>thresh,baseline_preds[:,test_ids[1]]>thresh)) for thresh in thresh_range]\n",
    "thresh=thresh_range[np.argmin(np.abs(np.array(true_hits)-lstm_both_in_pred))]"
   ]
  },
  {
   "cell_type": "code",
   "execution_count": 30,
   "metadata": {},
   "outputs": [
    {
     "data": {
      "text/plain": [
       "0.972"
      ]
     },
     "execution_count": 30,
     "metadata": {},
     "output_type": "execute_result"
    }
   ],
   "source": [
    "#how many have either of the true symbols\n",
    "np.mean(np.logical_or(baseline_preds[:,test_ids[0]]>thresh,baseline_preds[:,test_ids[1]]>thresh))"
   ]
  },
  {
   "cell_type": "code",
   "execution_count": 31,
   "metadata": {},
   "outputs": [
    {
     "data": {
      "text/plain": [
       "0.26"
      ]
     },
     "execution_count": 31,
     "metadata": {},
     "output_type": "execute_result"
    }
   ],
   "source": [
    "#how many predictions have both of the true symbols (should match the number for lstm)\n",
    "np.mean(np.logical_and(baseline_preds[:,test_ids[0]]>thresh,baseline_preds[:,test_ids[1]]>thresh))"
   ]
  },
  {
   "cell_type": "code",
   "execution_count": 32,
   "metadata": {},
   "outputs": [
    {
     "data": {
      "text/plain": [
       "0.652"
      ]
     },
     "execution_count": 32,
     "metadata": {},
     "output_type": "execute_result"
    }
   ],
   "source": [
    "#each true symbol individually \n",
    "np.mean(baseline_preds[:,test_ids[0]]>thresh)"
   ]
  },
  {
   "cell_type": "code",
   "execution_count": 33,
   "metadata": {},
   "outputs": [
    {
     "data": {
      "text/plain": [
       "0.58"
      ]
     },
     "execution_count": 33,
     "metadata": {},
     "output_type": "execute_result"
    }
   ],
   "source": [
    "np.mean(baseline_preds[:,test_ids[1]]>thresh)"
   ]
  },
  {
   "cell_type": "code",
   "execution_count": 34,
   "metadata": {},
   "outputs": [],
   "source": [
    "#the class ids for the production rules not in the test grammar\n",
    "non_test_ids=[i for i in range(len(sides_range)) if i not in test_ids]\n"
   ]
  },
  {
   "cell_type": "code",
   "execution_count": 35,
   "metadata": {},
   "outputs": [
    {
     "data": {
      "text/plain": [
       "0.685"
      ]
     },
     "execution_count": 35,
     "metadata": {},
     "output_type": "execute_result"
    }
   ],
   "source": [
    "#how many predictions have a false symbol (lower is better)\n",
    "np.mean(baseline_preds[:,non_test_ids]>thresh)"
   ]
  },
  {
   "cell_type": "code",
   "execution_count": 36,
   "metadata": {},
   "outputs": [
    {
     "data": {
      "text/plain": [
       "0.616"
      ]
     },
     "execution_count": 36,
     "metadata": {},
     "output_type": "execute_result"
    }
   ],
   "source": [
    "np.mean(baseline_preds[:,test_ids]>thresh)"
   ]
  },
  {
   "cell_type": "code",
   "execution_count": null,
   "metadata": {},
   "outputs": [],
   "source": []
  },
  {
   "cell_type": "code",
   "execution_count": 53,
   "metadata": {},
   "outputs": [
    {
     "data": {
      "text/plain": [
       "0.02"
      ]
     },
     "execution_count": 53,
     "metadata": {},
     "output_type": "execute_result"
    }
   ],
   "source": [
    "#the maximal proportion of examples which have the correct classification profile, over all threshold values\n",
    "#(both of the true symbols are above the threshold, and both of the decoy ones are below)\n",
    "max([np.mean(np.logical_and(np.logical_and(baseline_preds[:,test_ids[0]]>thresh,baseline_preds[:,test_ids[1]]>thresh),\n",
    "                np.logical_and(baseline_preds[:,non_test_ids[0]]<thresh, baseline_preds[:,non_test_ids[1]]<thresh))) for\n",
    "thresh in thresh_range])"
   ]
  },
  {
   "cell_type": "code",
   "execution_count": null,
   "metadata": {},
   "outputs": [],
   "source": []
  },
  {
   "cell_type": "code",
   "execution_count": 69,
   "metadata": {},
   "outputs": [],
   "source": [
    "#checking how many of the generated grammars are syntactically valid\n",
    "\n",
    "def valid_grammar(g):\n",
    "    #given a string, check if it is syntactically valid grammar\n",
    "     \n",
    "    tokens=[x for x in g.split(' ') if x]\n",
    "    #remove all the padding characters from the end\n",
    "    #if there are any remaining padding characters not in a contiguous block at the end\n",
    "    #then the grammar is invalid\n",
    "    last_nonpad=len(tokens)-1 \n",
    "    while(tokens[last_nonpad]=='<pad>'):\n",
    "        last_nonpad-=1\n",
    "    \n",
    "    tokens=tokens[:last_nonpad+1]\n",
    "    if('<pad>' in tokens):\n",
    "        return False\n",
    "    \n",
    "    comma_blocks=''.join(tokens).split(',')\n",
    "    #each of the elements in comma blocks must equal one of the 5 valid production rules\n",
    "    #also the termination condition must appear in coma_blocks\n",
    "    \n",
    "    valid_rules=['S->S+T']+[f'S->S+e{s}' for s in sides_range]\n",
    "    return all([x in valid_rules for x in comma_blocks]) and valid_rules[0] in comma_blocks\n"
   ]
  },
  {
   "cell_type": "code",
   "execution_count": 76,
   "metadata": {},
   "outputs": [
    {
     "data": {
      "text/plain": [
       "0.96"
      ]
     },
     "execution_count": 76,
     "metadata": {},
     "output_type": "execute_result"
    }
   ],
   "source": [
    "np.mean([valid_grammar(x) for x in predicted_grammars])"
   ]
  },
  {
   "cell_type": "code",
   "execution_count": null,
   "metadata": {},
   "outputs": [],
   "source": []
  },
  {
   "cell_type": "code",
   "execution_count": 132,
   "metadata": {},
   "outputs": [
    {
     "data": {
      "text/plain": [
       "[0.142, 0.562, 0.558, 0.604]"
      ]
     },
     "execution_count": 132,
     "metadata": {},
     "output_type": "execute_result"
    }
   ],
   "source": [
    "#proportion of grammars containing each symbol\n",
    "[np.mean([f'{j}' in predicted_grammars[i] for i in range(n_test)]) for j in sides_range]"
   ]
  },
  {
   "cell_type": "code",
   "execution_count": null,
   "metadata": {},
   "outputs": [],
   "source": []
  }
 ],
 "metadata": {
  "kernelspec": {
   "display_name": "Python 3",
   "language": "python",
   "name": "python3"
  },
  "language_info": {
   "codemirror_mode": {
    "name": "ipython",
    "version": 3
   },
   "file_extension": ".py",
   "mimetype": "text/x-python",
   "name": "python",
   "nbconvert_exporter": "python",
   "pygments_lexer": "ipython3",
   "version": "3.7.3"
  }
 },
 "nbformat": 4,
 "nbformat_minor": 2
}
