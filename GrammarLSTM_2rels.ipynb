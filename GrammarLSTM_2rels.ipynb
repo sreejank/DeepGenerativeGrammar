{
 "cells": [
  {
   "cell_type": "code",
   "execution_count": 1,
   "metadata": {},
   "outputs": [],
   "source": [
    "from GeneratePolygons import *\n",
    "import numpy as np\n",
    "import matplotlib.pyplot as plt\n",
    "import torchtext\n",
    "import torch\n",
    "from torchtext.data.utils import get_tokenizer\n",
    "from itertools import combinations\n",
    "%matplotlib inline"
   ]
  },
  {
   "cell_type": "code",
   "execution_count": 2,
   "metadata": {
    "scrolled": true
   },
   "outputs": [],
   "source": [
    "train_imgs=[]\n",
    "train_labels=[] #the generating grammar, encoded as a space-separated string\n",
    "sides_range=[3,4,5,6] #images will be polygons with number of sides being one of the numbers in this list\n",
    "\n",
    "n_train=1500 #number of training images in each class\n",
    "n_test=500\n",
    "\n",
    "\n",
    "img_size=64\n",
    "edge_length_range=(img_size/5,img_size/4)\n",
    "center_mean=(img_size/2,img_size/2)\n",
    "center_std=3\n",
    "edge_width=2\n",
    "params=dict({'img_size':img_size,'edge_length_range':edge_length_range,\n",
    "            'center_mean':center_mean,'center_std':center_std,'edge_width':edge_width})\n",
    "\n",
    "\n",
    "#generate images from the single-rule grammars\n",
    "for class_id,n_sides in enumerate(sides_range):\n",
    "    imgs=generate_batch(n_train,n_sides,**params)\n",
    "    train_imgs.append(imgs)\n",
    "    #the generative rules; T is used as terminal symbol; each ek corresponds to the relation between sides in k-sided polygon\n",
    "    train_labels+=[(f'S -> S + e{n_sides} , S -> S + T')]*n_train\n",
    "    \n",
    "\n",
    "#now generate the combination grammars for all but one of the combinations\n",
    "test_ids=(1,3)\n",
    "test_sides=(sides_range[test_ids[0]],sides_range[test_ids[1]])\n",
    "for i,j in combinations(sides_range,2):\n",
    "    if (i,j)==test_sides or (i,j)==test_sides[::-1]:\n",
    "        continue\n",
    "    imgs=generate_batch_2rels(n_train,i,j,**params)\n",
    "    train_imgs.append(imgs)\n",
    "    train_labels+=[(f'S -> S + e{i} , S -> S + e{j} , S -> S + T')]*n_train\n",
    "train_imgs=np.vstack(train_imgs)\n",
    "train_labels=np.array(train_labels)\n",
    "\n",
    "\n",
    "#use the held out combination for testing\n",
    "test_imgs=generate_batch_2rels(n_test,test_sides[0],test_sides[1],**params)\n",
    "test_labels=np.array([(f'S -> S + e{test_sides[0]} , S -> S + e{test_sides[1]} , S -> S + T')]*n_test)\n",
    "\n"
   ]
  },
  {
   "cell_type": "code",
   "execution_count": null,
   "metadata": {},
   "outputs": [],
   "source": [
    "\n"
   ]
  },
  {
   "cell_type": "code",
   "execution_count": 3,
   "metadata": {},
   "outputs": [
    {
     "data": {
      "text/plain": [
       "<matplotlib.image.AxesImage at 0x7f87585a3dd8>"
      ]
     },
     "execution_count": 3,
     "metadata": {},
     "output_type": "execute_result"
    },
    {
     "data": {
      "image/png": "[encoded data removed]",
      "text/plain": [
       "<Figure size 432x288 with 1 Axes>"
      ]
     },
     "metadata": {
      "needs_background": "light"
     },
     "output_type": "display_data"
    }
   ],
   "source": [
    "plt.imshow(test_imgs[np.random.choice(len(test_imgs))])"
   ]
  },
  {
   "cell_type": "code",
   "execution_count": 4,
   "metadata": {},
   "outputs": [
    {
     "data": {
      "text/plain": [
       "<matplotlib.image.AxesImage at 0x7f8791e332e8>"
      ]
     },
     "execution_count": 4,
     "metadata": {},
     "output_type": "execute_result"
    },
    {
     "data": {
      "image/png": "[encoded data removed]",
      "text/plain": [
       "<Figure size 432x288 with 1 Axes>"
      ]
     },
     "metadata": {
      "needs_background": "light"
     },
     "output_type": "display_data"
    }
   ],
   "source": [
    "plt.imshow(train_imgs[np.random.choice(len(train_imgs))])"
   ]
  },
  {
   "cell_type": "code",
   "execution_count": 5,
   "metadata": {},
   "outputs": [],
   "source": [
    "TEXT = torchtext.data.Field(tokenize=get_tokenizer(\"basic_english\"),\n",
    "                            init_token='<sos>',\n",
    "                            eos_token='<eos>',\n",
    "                            lower=True)\n",
    "\n"
   ]
  },
  {
   "cell_type": "code",
   "execution_count": 6,
   "metadata": {},
   "outputs": [],
   "source": [
    "TEXT.build_vocab([x.split(' ') for x in train_labels])"
   ]
  },
  {
   "cell_type": "code",
   "execution_count": 7,
   "metadata": {},
   "outputs": [],
   "source": [
    "MAX_SEQ_LEN=24 #pad sequences so they are all this length\n",
    "\n",
    "def str_to_int(s,max_len=MAX_SEQ_LEN):\n",
    "    #s a string of tokens separated by spaces\n",
    "    #return representation as sequence of integers\n",
    "    #if length is < max_len, then add padding token at the end until it is this length\n",
    "    char_as_int=[TEXT.vocab.stoi[x] for x in s.split(' ')]\n",
    "\n",
    "    char_as_int=char_as_int[:MAX_SEQ_LEN]+[len(TEXT.vocab)]*max(MAX_SEQ_LEN-len(char_as_int),0) #pad\n",
    "    return char_as_int\n",
    "    \n",
    "def str_to_onehots(s,max_len=MAX_SEQ_LEN):\n",
    "    #s a string of tokens separated by spaces\n",
    "    #return representation as sequence of one-hot vectors \n",
    "    #if length is < max_len, then add padding token at the end until it is this length\n",
    "    \n",
    "    char_as_int=str_to_int(s,max_len=max_len)\n",
    "\n",
    "\n",
    "    ret=torch.zeros((max_len,len(TEXT.vocab)+1))\n",
    "    for i,x in enumerate(char_as_int):\n",
    "        ret[i,x]=1\n",
    "    return ret"
   ]
  },
  {
   "cell_type": "code",
   "execution_count": 8,
   "metadata": {},
   "outputs": [],
   "source": [
    "#convert each label to a sequence of one-hots\n",
    "train_seqs=[str_to_int(x) for x in train_labels]\n",
    "test_seqs=[str_to_int(x) for x in test_labels]\n"
   ]
  },
  {
   "cell_type": "code",
   "execution_count": 59,
   "metadata": {},
   "outputs": [],
   "source": [
    "class GrammarGenerator(torch.nn.Module):\n",
    "    def __init__(self):\n",
    "        super(GrammarGenerator, self).__init__()\n",
    "        # Convolution 1\n",
    "        self.conv1 = torch.nn.Conv2d(in_channels=1, out_channels=10, kernel_size=4, stride=1, padding=3)\n",
    "\n",
    "        # Max pool 1\n",
    "        self.maxpool1 = torch.nn.MaxPool2d(kernel_size=2)\n",
    "        \n",
    "        self.conv2 = torch.nn.Conv2d(in_channels=10, out_channels=10, kernel_size=3, stride=1, padding=3)\n",
    "\n",
    "        # Max pool 1\n",
    "        self.maxpool2 = torch.nn.MaxPool2d(kernel_size=2)\n",
    "\n",
    "        #dimensionality of lstm\n",
    "        self.emb_dim=100\n",
    "        self.h_dim=100 \n",
    "        self.fc1=torch.nn.Linear(3240,self.emb_dim) \n",
    "        self.fc2=torch.nn.Linear(3240,self.h_dim)\n",
    "        self.fc3=torch.nn.Linear(3240,self.h_dim)\n",
    "        \n",
    "        self.lstm = torch.nn.LSTM(self.emb_dim, self.h_dim)  \n",
    "        self.tokenW=torch.nn.Linear(self.emb_dim+2*self.h_dim,len(TEXT.vocab)+1) #weights for decoding token from hidden state and embedding \n",
    "\n",
    "    def forward(self, x):\n",
    "        #pass through conv layers\n",
    "        outp=self.maxpool1(self.conv1(x))\n",
    "        outp=torch.nn.ReLU()(outp)\n",
    "        outp=self.maxpool2(self.conv2(outp))\n",
    "        outp=torch.nn.ReLU()(outp)\n",
    "        outp=torch.reshape(outp,(len(x),-1)) #concatenate so each image is represented by a 1d vector\n",
    "        \n",
    "        \n",
    "        embs=[torch.nn.ReLU()(self.fc1(outp))[None,:,:]] #initialize lstm embedding  (extra axis for sequence dimsnion)\n",
    "        \n",
    "        h1s=[torch.nn.ReLU()(self.fc2(outp))[None,:,:]] #initialize lstm hidden state\n",
    "        h2s=[torch.nn.ReLU()(self.fc3(outp))[None,:,:]]\n",
    "        \n",
    "        #run through lstm and record embeddings and hidden state\n",
    "        for i in range(MAX_SEQ_LEN-1):\n",
    "            new_emb,new_h=self.lstm(embs[-1],(h1s[-1],h2s[-1]))\n",
    "            embs.append(new_emb)\n",
    "            h1s.append(new_h[0])\n",
    "            h2s.append(new_h[1])\n",
    "        \n",
    "        embs=torch.cat(embs,axis=0)\n",
    "        h1s=torch.cat(h1s,axis=0)\n",
    "        h2s=torch.cat(h2s,axis=0)\n",
    "        \n",
    "        #concatenate all together to decode the corresponding tokens\n",
    "        features=torch.cat((embs,h1s,h2s),axis=2)\n",
    "        \n",
    "        features=self.tokenW(features) #logit for each token \n",
    "        \n",
    "        \n",
    "        return features.transpose(1,0) #reorder so batch dim is first\n"
   ]
  },
  {
   "cell_type": "code",
   "execution_count": 60,
   "metadata": {},
   "outputs": [],
   "source": [
    "model=GrammarGenerator()"
   ]
  },
  {
   "cell_type": "code",
   "execution_count": 61,
   "metadata": {},
   "outputs": [],
   "source": [
    "batch_size=32\n",
    "optimizer=torch.optim.SGD(model.parameters(),lr=.01)\n",
    "criterion=torch.nn.CrossEntropyLoss()#weight=weights).to('cuda')\n",
    "losses=[]\n"
   ]
  },
  {
   "cell_type": "code",
   "execution_count": 71,
   "metadata": {},
   "outputs": [
    {
     "name": "stdout",
     "output_type": "stream",
     "text": [
      "0.058290992\n",
      "0.08388502\n"
     ]
    },
    {
     "ename": "KeyboardInterrupt",
     "evalue": "",
     "output_type": "error",
     "traceback": [
      "\u001b[0;31m---------------------------------------------------------------------------\u001b[0m",
      "\u001b[0;31mKeyboardInterrupt\u001b[0m                         Traceback (most recent call last)",
      "\u001b[0;32m<ipython-input-71-6eed3efefcfb>\u001b[0m in \u001b[0;36m<module>\u001b[0;34m\u001b[0m\n\u001b[1;32m     11\u001b[0m     \u001b[0mtargets\u001b[0m\u001b[0;34m=\u001b[0m\u001b[0mtorch\u001b[0m\u001b[0;34m.\u001b[0m\u001b[0mTensor\u001b[0m\u001b[0;34m(\u001b[0m\u001b[0msum\u001b[0m\u001b[0;34m(\u001b[0m\u001b[0;34m[\u001b[0m\u001b[0mtrain_seqs\u001b[0m\u001b[0;34m[\u001b[0m\u001b[0mx\u001b[0m\u001b[0;34m]\u001b[0m \u001b[0;32mfor\u001b[0m \u001b[0mx\u001b[0m \u001b[0;32min\u001b[0m \u001b[0mbatch_ids\u001b[0m\u001b[0;34m]\u001b[0m\u001b[0;34m,\u001b[0m\u001b[0;34m[\u001b[0m\u001b[0;34m]\u001b[0m\u001b[0;34m)\u001b[0m\u001b[0;34m)\u001b[0m\u001b[0;34m.\u001b[0m\u001b[0mlong\u001b[0m\u001b[0;34m(\u001b[0m\u001b[0;34m)\u001b[0m\u001b[0;34m\u001b[0m\u001b[0;34m\u001b[0m\u001b[0m\n\u001b[1;32m     12\u001b[0m     \u001b[0mloss\u001b[0m\u001b[0;34m=\u001b[0m\u001b[0mcriterion\u001b[0m\u001b[0;34m(\u001b[0m\u001b[0mfeats\u001b[0m\u001b[0;34m,\u001b[0m \u001b[0mtargets\u001b[0m\u001b[0;34m)\u001b[0m\u001b[0;34m\u001b[0m\u001b[0;34m\u001b[0m\u001b[0m\n\u001b[0;32m---> 13\u001b[0;31m     \u001b[0mloss\u001b[0m\u001b[0;34m.\u001b[0m\u001b[0mbackward\u001b[0m\u001b[0;34m(\u001b[0m\u001b[0;34m)\u001b[0m\u001b[0;34m\u001b[0m\u001b[0;34m\u001b[0m\u001b[0m\n\u001b[0m\u001b[1;32m     14\u001b[0m     \u001b[0moptimizer\u001b[0m\u001b[0;34m.\u001b[0m\u001b[0mstep\u001b[0m\u001b[0;34m(\u001b[0m\u001b[0;34m)\u001b[0m\u001b[0;34m\u001b[0m\u001b[0;34m\u001b[0m\u001b[0m\n\u001b[1;32m     15\u001b[0m     \u001b[0mlosses\u001b[0m\u001b[0;34m.\u001b[0m\u001b[0mappend\u001b[0m\u001b[0;34m(\u001b[0m\u001b[0mloss\u001b[0m\u001b[0;34m.\u001b[0m\u001b[0mdetach\u001b[0m\u001b[0;34m(\u001b[0m\u001b[0;34m)\u001b[0m\u001b[0;34m.\u001b[0m\u001b[0mnumpy\u001b[0m\u001b[0;34m(\u001b[0m\u001b[0;34m)\u001b[0m\u001b[0;34m)\u001b[0m\u001b[0;34m\u001b[0m\u001b[0;34m\u001b[0m\u001b[0m\n",
      "\u001b[0;32m~/miniconda3/lib/python3.7/site-packages/torch/tensor.py\u001b[0m in \u001b[0;36mbackward\u001b[0;34m(self, gradient, retain_graph, create_graph)\u001b[0m\n\u001b[1;32m    116\u001b[0m                 \u001b[0mproducts\u001b[0m\u001b[0;34m.\u001b[0m \u001b[0mDefaults\u001b[0m \u001b[0mto\u001b[0m\u001b[0;31m \u001b[0m\u001b[0;31m`\u001b[0m\u001b[0;31m`\u001b[0m\u001b[0;32mFalse\u001b[0m\u001b[0;31m`\u001b[0m\u001b[0;31m`\u001b[0m\u001b[0;34m.\u001b[0m\u001b[0;34m\u001b[0m\u001b[0;34m\u001b[0m\u001b[0m\n\u001b[1;32m    117\u001b[0m         \"\"\"\n\u001b[0;32m--> 118\u001b[0;31m         \u001b[0mtorch\u001b[0m\u001b[0;34m.\u001b[0m\u001b[0mautograd\u001b[0m\u001b[0;34m.\u001b[0m\u001b[0mbackward\u001b[0m\u001b[0;34m(\u001b[0m\u001b[0mself\u001b[0m\u001b[0;34m,\u001b[0m \u001b[0mgradient\u001b[0m\u001b[0;34m,\u001b[0m \u001b[0mretain_graph\u001b[0m\u001b[0;34m,\u001b[0m \u001b[0mcreate_graph\u001b[0m\u001b[0;34m)\u001b[0m\u001b[0;34m\u001b[0m\u001b[0;34m\u001b[0m\u001b[0m\n\u001b[0m\u001b[1;32m    119\u001b[0m \u001b[0;34m\u001b[0m\u001b[0m\n\u001b[1;32m    120\u001b[0m     \u001b[0;32mdef\u001b[0m \u001b[0mregister_hook\u001b[0m\u001b[0;34m(\u001b[0m\u001b[0mself\u001b[0m\u001b[0;34m,\u001b[0m \u001b[0mhook\u001b[0m\u001b[0;34m)\u001b[0m\u001b[0;34m:\u001b[0m\u001b[0;34m\u001b[0m\u001b[0;34m\u001b[0m\u001b[0m\n",
      "\u001b[0;32m~/miniconda3/lib/python3.7/site-packages/torch/autograd/__init__.py\u001b[0m in \u001b[0;36mbackward\u001b[0;34m(tensors, grad_tensors, retain_graph, create_graph, grad_variables)\u001b[0m\n\u001b[1;32m     91\u001b[0m     Variable._execution_engine.run_backward(\n\u001b[1;32m     92\u001b[0m         \u001b[0mtensors\u001b[0m\u001b[0;34m,\u001b[0m \u001b[0mgrad_tensors\u001b[0m\u001b[0;34m,\u001b[0m \u001b[0mretain_graph\u001b[0m\u001b[0;34m,\u001b[0m \u001b[0mcreate_graph\u001b[0m\u001b[0;34m,\u001b[0m\u001b[0;34m\u001b[0m\u001b[0;34m\u001b[0m\u001b[0m\n\u001b[0;32m---> 93\u001b[0;31m         allow_unreachable=True)  # allow_unreachable flag\n\u001b[0m\u001b[1;32m     94\u001b[0m \u001b[0;34m\u001b[0m\u001b[0m\n\u001b[1;32m     95\u001b[0m \u001b[0;34m\u001b[0m\u001b[0m\n",
      "\u001b[0;31mKeyboardInterrupt\u001b[0m: "
     ]
    }
   ],
   "source": [
    "#train\n",
    "for ii in range(12000):\n",
    "    batch_ids = np.random.choice(train_imgs.shape[0], batch_size, replace=False)\n",
    "    optimizer.zero_grad()\n",
    "\n",
    "    feats=model(torch.from_numpy(train_imgs[batch_ids])[:,None,:,:].float())\n",
    "    feats=feats.reshape(-1,feats.shape[2])\n",
    "    #stack so that first axis is (first token in seq 1, ..., nth tokenin seq 1, first token in seq 2, ... nth in seq 2, ...)\n",
    "\n",
    "    #list the token ids of the target sequences in the same order (first all seq1, then seq2, etc.)\n",
    "    targets=torch.Tensor(sum([train_seqs[x] for x in batch_ids],[])).long()\n",
    "    loss=criterion(feats, targets)\n",
    "    loss.backward()\n",
    "    optimizer.step()\n",
    "    losses.append(loss.detach().numpy())\n",
    "    if(ii%25==0):\n",
    "        print(losses[-1])"
   ]
  },
  {
   "cell_type": "code",
   "execution_count": 72,
   "metadata": {},
   "outputs": [
    {
     "data": {
      "text/plain": [
       "(0, 2)"
      ]
     },
     "execution_count": 72,
     "metadata": {},
     "output_type": "execute_result"
    },
    {
     "data": {
      "image/png": "[encoded data removed]",
      "text/plain": [
       "<Figure size 432x288 with 1 Axes>"
      ]
     },
     "metadata": {
      "needs_background": "light"
     },
     "output_type": "display_data"
    }
   ],
   "source": [
    "\n",
    "plt.plot(losses)\n",
    "plt.ylim(0,2)\n"
   ]
  },
  {
   "cell_type": "code",
   "execution_count": null,
   "metadata": {},
   "outputs": [],
   "source": []
  },
  {
   "cell_type": "code",
   "execution_count": 74,
   "metadata": {},
   "outputs": [],
   "source": [
    "#predictions on test images"
   ]
  },
  {
   "cell_type": "code",
   "execution_count": 75,
   "metadata": {},
   "outputs": [],
   "source": [
    "predicted_grammars=[]\n",
    "\n",
    "extended_vocab=TEXT.vocab.itos+['<pad>']\n",
    "for x in test_imgs:\n",
    "    outp=model(torch.from_numpy(x)[None,None,:,:].float()).squeeze()\n",
    "    pred_seq=torch.argmax(outp,axis=1)\n",
    "    pred_seq=[extended_vocab[c]+' ' for c in pred_seq]\n",
    "    predicted_grammars.append(''.join(pred_seq))"
   ]
  },
  {
   "cell_type": "code",
   "execution_count": 78,
   "metadata": {},
   "outputs": [
    {
     "data": {
      "text/plain": [
       "['S -> S + e4 , S -> S + e5 , S -> S + T <pad> <pad> <pad> <pad> <pad> <pad> <pad> ',\n",
       " 'S -> S + e5 , S -> S + e6 , S -> S + T <pad> <pad> <pad> <pad> <pad> <pad> <pad> ',\n",
       " 'S -> S + e4 , S -> S + e6 , <pad> -> S T <pad> <pad> <pad> <pad> <pad> <pad> <pad> <pad> ',\n",
       " 'S -> S + e4 , S -> S + e5 , S -> S + T <pad> <pad> <pad> <pad> <pad> <pad> <pad> ',\n",
       " 'S -> S + e4 , S -> S + e6 , S -> S + T <pad> <pad> <pad> <pad> <pad> <pad> <pad> ',\n",
       " 'S -> S + e4 , S -> S + e5 , S -> S + T <pad> <pad> <pad> <pad> <pad> <pad> <pad> ',\n",
       " 'S -> S + e4 , S -> S + e6 , S -> S + T <pad> <pad> <pad> <pad> <pad> <pad> <pad> ',\n",
       " 'S -> S + e5 , S -> S + e5 , S -> S + T <pad> <pad> <pad> <pad> <pad> <pad> <pad> ',\n",
       " 'S -> S + e4 , S -> S + e5 , S -> S + T <pad> <pad> <pad> <pad> <pad> <pad> <pad> ',\n",
       " 'S -> S + e4 , S -> S + T <pad> <pad> <pad> <pad> <pad> <pad> <pad> <pad> <pad> <pad> <pad> <pad> <pad> ']"
      ]
     },
     "execution_count": 78,
     "metadata": {},
     "output_type": "execute_result"
    }
   ],
   "source": [
    "#predicted grammars on randomly chosen test images\n",
    "ids=np.random.choice(len(test_labels),10,replace=False) #pick some images randomly to show\n",
    "[predicted_grammars[x] for x in ids] #predicted grammar for each image"
   ]
  },
  {
   "cell_type": "code",
   "execution_count": null,
   "metadata": {},
   "outputs": [],
   "source": []
  },
  {
   "cell_type": "code",
   "execution_count": 77,
   "metadata": {},
   "outputs": [],
   "source": [
    "\\"
   ]
  },
  {
   "cell_type": "code",
   "execution_count": null,
   "metadata": {},
   "outputs": [],
   "source": []
  },
  {
   "cell_type": "code",
   "execution_count": null,
   "metadata": {},
   "outputs": [],
   "source": []
  },
  {
   "cell_type": "code",
   "execution_count": null,
   "metadata": {},
   "outputs": [],
   "source": []
  },
  {
   "cell_type": "code",
   "execution_count": null,
   "metadata": {},
   "outputs": [],
   "source": []
  },
  {
   "cell_type": "code",
   "execution_count": null,
   "metadata": {},
   "outputs": [],
   "source": []
  },
  {
   "cell_type": "code",
   "execution_count": null,
   "metadata": {},
   "outputs": [],
   "source": []
  }
 ],
 "metadata": {
  "kernelspec": {
   "display_name": "Python 3",
   "language": "python",
   "name": "python3"
  },
  "language_info": {
   "codemirror_mode": {
    "name": "ipython",
    "version": 3
   },
   "file_extension": ".py",
   "mimetype": "text/x-python",
   "name": "python",
   "nbconvert_exporter": "python",
   "pygments_lexer": "ipython3",
   "version": "3.7.3"
  }
 },
 "nbformat": 4,
 "nbformat_minor": 2
}
